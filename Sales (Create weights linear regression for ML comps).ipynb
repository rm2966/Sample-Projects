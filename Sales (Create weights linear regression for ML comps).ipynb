{
 "cells": [
  {
   "cell_type": "code",
   "execution_count": 1,
   "id": "95622fa3",
   "metadata": {},
   "outputs": [],
   "source": [
    "#This code will convert realtive contributions to a weight, \n",
    "#this is a good method for comparing linear regression to machine learning.\n",
    "\n",
    "\n",
    "\n",
    "# Create a linear regression model\n",
    "## Dependent Variable\n",
    "# Retail Sales: Beer, Wine, and Liquor Stores \n",
    "# Retrieve from: https://fred.stlouisfed.org/series/MRTSSM4453USN\n",
    "# Shortened as \"Alcohol_Sales\" in the following coding.\n",
    "\n",
    "\n",
    "## Independent Variables\n",
    "\n",
    "# Consumer Price Index for All Urban Consumers: Alcoholic Beverages in U.S. City Average\n",
    "# Retrieve from: https://fred.stlouisfed.org/series/CUSR0000SAF116\n",
    "# Shortened as \"CPI_Alcoholic_Beverages\" in the following coding.\n",
    "\n",
    "# US GDP\n",
    "# Retrieve from: https://www.multpl.com/us-gdp\n",
    "# Shortened as \"US_GDP_Billions\" in the following coding.\n",
    "\n",
    "# US Consumer Price Index\n",
    "# Retrieve from: https://www.multpl.com/cpi\n",
    "# Shortened as \"CPI\" in the following coding.\n",
    "\n",
    "# Real Disposable Personal Income: Per Capita\n",
    "# Retrieve from: https://fred.stlouisfed.org/series/A229RX0\n",
    "# Shortened as \"Disposable_Personal_Income\" in the following coding.\n",
    "\n",
    "# Personal consumption expenditures: Food\n",
    "# Retrieve from: https://fred.stlouisfed.org/series/CUSR0000SAF116\n",
    "# Shortened as \"Food_Expenditure_Billions\" in the following coding.\n",
    "\n",
    "# US Retail Sales\n",
    "# Retrieve from: https://www.multpl.com/us-retail-sales\n",
    "# Shortened as \"US_Retail_Sales_Billions\" in the following coding.\n",
    "\n",
    "# S&P 500 Historical Prices\n",
    "# Retrieve from: https://www.multpl.com/s-p-500-historical-prices\n",
    "# Shortened as \"SP500\" in the following coding.\n",
    "\n",
    "# US Inflation Rate\n",
    "# Retrieve from: https://www.multpl.com/inflation\n",
    "# Shortened as \"Inflation_Rate\" in the following coding.\n",
    "\n",
    "# US Unemployment Rate\n",
    "# Retrieve from: hhttps://www.multpl.com/unemployment\n",
    "# Shortened as \"Unemployment_Rate\" in the following coding.\n",
    "\n",
    "# S&P/Case-Shiller U.S. National Home Price Index\n",
    "# Retrieve from: https://fred.stlouisfed.org/series/CSUSHPINSA\n",
    "# Shortened as \"Home_Price_Index\" in the following coding.\n",
    "\n",
    "# All variables were recorded on a monthly basis, spanning from January 2013 to December 2023, and encompassing a 10-year time frame."
   ]
  },
  {
   "cell_type": "code",
   "execution_count": 2,
   "id": "43d153e9",
   "metadata": {},
   "outputs": [],
   "source": [
    "# Importing numpy and pandas, seaborn\n",
    "\n",
    "import numpy as np #linear algebra\n",
    "import pandas as pd \n",
    "import seaborn as sns #for plotting graphs\n",
    "import matplotlib.pyplot as plt\n",
    "import statsmodels.api as sm\n",
    "from statsmodels.tsa.ar_model import AutoReg"
   ]
  },
  {
   "cell_type": "code",
   "execution_count": 3,
   "id": "74de80f6",
   "metadata": {},
   "outputs": [
    {
     "data": {
      "text/plain": [
       "'/Users/rajeevmaharaj/Desktop'"
      ]
     },
     "execution_count": 3,
     "metadata": {},
     "output_type": "execute_result"
    }
   ],
   "source": [
    "pwd"
   ]
  },
  {
   "cell_type": "code",
   "execution_count": 4,
   "id": "1b855813",
   "metadata": {},
   "outputs": [],
   "source": [
    "df = pd.read_csv('Dataset.csv')"
   ]
  },
  {
   "cell_type": "code",
   "execution_count": 5,
   "id": "5882d728",
   "metadata": {},
   "outputs": [
    {
     "name": "stdout",
     "output_type": "stream",
     "text": [
      "<class 'pandas.core.frame.DataFrame'>\n",
      "RangeIndex: 120 entries, 0 to 119\n",
      "Data columns (total 13 columns):\n",
      " #   Column                      Non-Null Count  Dtype  \n",
      "---  ------                      --------------  -----  \n",
      " 0   Year                        120 non-null    int64  \n",
      " 1   Month                       120 non-null    int64  \n",
      " 2   Alcohol_Sales_Millions      120 non-null    int64  \n",
      " 3   CPI_Alcoholic_Beverages     120 non-null    float64\n",
      " 4   US_GDP_Billions             120 non-null    int64  \n",
      " 5   CPI                         120 non-null    float64\n",
      " 6   Disposable_Personal_Income  120 non-null    int64  \n",
      " 7   Food_Expenditure_Billions   120 non-null    float64\n",
      " 8   US_Retail_Sales_Billions    120 non-null    float64\n",
      " 9   SP500                       120 non-null    float64\n",
      " 10  Inflation_Rate              120 non-null    float64\n",
      " 11  Unemployment_Rate           120 non-null    float64\n",
      " 12  Home_Price_Index            120 non-null    float64\n",
      "dtypes: float64(8), int64(5)\n",
      "memory usage: 12.3 KB\n"
     ]
    }
   ],
   "source": [
    "df.info()"
   ]
  },
  {
   "cell_type": "code",
   "execution_count": 6,
   "id": "ea56d03d",
   "metadata": {},
   "outputs": [
    {
     "data": {
      "text/html": [
       "<div>\n",
       "<style scoped>\n",
       "    .dataframe tbody tr th:only-of-type {\n",
       "        vertical-align: middle;\n",
       "    }\n",
       "\n",
       "    .dataframe tbody tr th {\n",
       "        vertical-align: top;\n",
       "    }\n",
       "\n",
       "    .dataframe thead th {\n",
       "        text-align: right;\n",
       "    }\n",
       "</style>\n",
       "<table border=\"1\" class=\"dataframe\">\n",
       "  <thead>\n",
       "    <tr style=\"text-align: right;\">\n",
       "      <th></th>\n",
       "      <th>Year</th>\n",
       "      <th>Month</th>\n",
       "      <th>Alcohol_Sales_Millions</th>\n",
       "      <th>CPI_Alcoholic_Beverages</th>\n",
       "      <th>US_GDP_Billions</th>\n",
       "      <th>CPI</th>\n",
       "      <th>Disposable_Personal_Income</th>\n",
       "      <th>Food_Expenditure_Billions</th>\n",
       "      <th>US_Retail_Sales_Billions</th>\n",
       "      <th>SP500</th>\n",
       "      <th>Inflation_Rate</th>\n",
       "      <th>Unemployment_Rate</th>\n",
       "      <th>Home_Price_Index</th>\n",
       "    </tr>\n",
       "  </thead>\n",
       "  <tbody>\n",
       "    <tr>\n",
       "      <th>0</th>\n",
       "      <td>2013</td>\n",
       "      <td>1</td>\n",
       "      <td>3143</td>\n",
       "      <td>232.337</td>\n",
       "      <td>16680</td>\n",
       "      <td>230.28</td>\n",
       "      <td>38789</td>\n",
       "      <td>855.6</td>\n",
       "      <td>412.42</td>\n",
       "      <td>1480.40</td>\n",
       "      <td>0.0159</td>\n",
       "      <td>0.080</td>\n",
       "      <td>144.312</td>\n",
       "    </tr>\n",
       "    <tr>\n",
       "      <th>1</th>\n",
       "      <td>2013</td>\n",
       "      <td>2</td>\n",
       "      <td>3212</td>\n",
       "      <td>233.300</td>\n",
       "      <td>16580</td>\n",
       "      <td>232.17</td>\n",
       "      <td>38663</td>\n",
       "      <td>863.1</td>\n",
       "      <td>417.38</td>\n",
       "      <td>1512.31</td>\n",
       "      <td>0.0198</td>\n",
       "      <td>0.077</td>\n",
       "      <td>145.161</td>\n",
       "    </tr>\n",
       "    <tr>\n",
       "      <th>2</th>\n",
       "      <td>2013</td>\n",
       "      <td>3</td>\n",
       "      <td>3603</td>\n",
       "      <td>233.621</td>\n",
       "      <td>16630</td>\n",
       "      <td>232.77</td>\n",
       "      <td>38760</td>\n",
       "      <td>859.1</td>\n",
       "      <td>414.12</td>\n",
       "      <td>1550.83</td>\n",
       "      <td>0.0147</td>\n",
       "      <td>0.075</td>\n",
       "      <td>147.960</td>\n",
       "    </tr>\n",
       "    <tr>\n",
       "      <th>3</th>\n",
       "      <td>2013</td>\n",
       "      <td>4</td>\n",
       "      <td>3463</td>\n",
       "      <td>234.090</td>\n",
       "      <td>16650</td>\n",
       "      <td>232.53</td>\n",
       "      <td>38855</td>\n",
       "      <td>854.3</td>\n",
       "      <td>412.02</td>\n",
       "      <td>1570.70</td>\n",
       "      <td>0.0106</td>\n",
       "      <td>0.076</td>\n",
       "      <td>150.968</td>\n",
       "    </tr>\n",
       "    <tr>\n",
       "      <th>4</th>\n",
       "      <td>2013</td>\n",
       "      <td>5</td>\n",
       "      <td>3916</td>\n",
       "      <td>234.098</td>\n",
       "      <td>16650</td>\n",
       "      <td>232.95</td>\n",
       "      <td>39019</td>\n",
       "      <td>859.8</td>\n",
       "      <td>414.47</td>\n",
       "      <td>1639.84</td>\n",
       "      <td>0.0136</td>\n",
       "      <td>0.075</td>\n",
       "      <td>153.859</td>\n",
       "    </tr>\n",
       "  </tbody>\n",
       "</table>\n",
       "</div>"
      ],
      "text/plain": [
       "   Year  Month  Alcohol_Sales_Millions  CPI_Alcoholic_Beverages  \\\n",
       "0  2013      1                    3143                  232.337   \n",
       "1  2013      2                    3212                  233.300   \n",
       "2  2013      3                    3603                  233.621   \n",
       "3  2013      4                    3463                  234.090   \n",
       "4  2013      5                    3916                  234.098   \n",
       "\n",
       "   US_GDP_Billions     CPI  Disposable_Personal_Income  \\\n",
       "0            16680  230.28                       38789   \n",
       "1            16580  232.17                       38663   \n",
       "2            16630  232.77                       38760   \n",
       "3            16650  232.53                       38855   \n",
       "4            16650  232.95                       39019   \n",
       "\n",
       "   Food_Expenditure_Billions  US_Retail_Sales_Billions    SP500  \\\n",
       "0                      855.6                    412.42  1480.40   \n",
       "1                      863.1                    417.38  1512.31   \n",
       "2                      859.1                    414.12  1550.83   \n",
       "3                      854.3                    412.02  1570.70   \n",
       "4                      859.8                    414.47  1639.84   \n",
       "\n",
       "   Inflation_Rate  Unemployment_Rate  Home_Price_Index  \n",
       "0          0.0159              0.080           144.312  \n",
       "1          0.0198              0.077           145.161  \n",
       "2          0.0147              0.075           147.960  \n",
       "3          0.0106              0.076           150.968  \n",
       "4          0.0136              0.075           153.859  "
      ]
     },
     "execution_count": 6,
     "metadata": {},
     "output_type": "execute_result"
    }
   ],
   "source": [
    "df.head() # print Head"
   ]
  },
  {
   "cell_type": "code",
   "execution_count": 7,
   "id": "99075ebb",
   "metadata": {},
   "outputs": [
    {
     "data": {
      "text/plain": [
       "(120, 13)"
      ]
     },
     "execution_count": 7,
     "metadata": {},
     "output_type": "execute_result"
    }
   ],
   "source": [
    "# Finding number of rows and columns\n",
    "df.shape"
   ]
  },
  {
   "cell_type": "code",
   "execution_count": 8,
   "id": "dd1cb57f",
   "metadata": {
    "scrolled": true
   },
   "outputs": [
    {
     "data": {
      "text/plain": [
       "Year                          0\n",
       "Month                         0\n",
       "Alcohol_Sales_Millions        0\n",
       "CPI_Alcoholic_Beverages       0\n",
       "US_GDP_Billions               0\n",
       "CPI                           0\n",
       "Disposable_Personal_Income    0\n",
       "Food_Expenditure_Billions     0\n",
       "US_Retail_Sales_Billions      0\n",
       "SP500                         0\n",
       "Inflation_Rate                0\n",
       "Unemployment_Rate             0\n",
       "Home_Price_Index              0\n",
       "dtype: int64"
      ]
     },
     "execution_count": 8,
     "metadata": {},
     "output_type": "execute_result"
    }
   ],
   "source": [
    "# Any null variables?\n",
    "df.isnull().sum() # There are no missing values in the dataset."
   ]
  },
  {
   "cell_type": "code",
   "execution_count": 9,
   "id": "8496799a",
   "metadata": {},
   "outputs": [
    {
     "data": {
      "image/png": "[encoded data removed]",
      "text/plain": [
       "<Figure size 640x480 with 1 Axes>"
      ]
     },
     "metadata": {},
     "output_type": "display_data"
    }
   ],
   "source": [
    "# Scatterplot between dependent variable and independent variables, respectively\n",
    "colors = np.random.rand(len(df))\n",
    "plt.scatter(df['US_GDP_Billions'], df['Alcohol_Sales_Millions'], c=colors, alpha=0.5)\n",
    "plt.xlabel('US GDP (billions)')\n",
    "plt.ylabel('Alcohol Sales (millions)')\n",
    "plt.show()"
   ]
  },
  {
   "cell_type": "code",
   "execution_count": 10,
   "id": "57aa2d2c",
   "metadata": {},
   "outputs": [],
   "source": [
    "# Defining correlation matrix\n",
    "corr_matrix = df.corr()"
   ]
  },
  {
   "cell_type": "code",
   "execution_count": 11,
   "id": "8cf83904",
   "metadata": {},
   "outputs": [],
   "source": [
    "# Regression 1: All variables \n",
    "# Define the predictor variables and the dependent variable for the regression\n",
    "X = df[['US_GDP_Billions','CPI','Disposable_Personal_Income', 'US_Retail_Sales_Billions','Inflation_Rate', 'Unemployment_Rate','Home_Price_Index']]\n",
    "y = df['Alcohol_Sales_Millions']"
   ]
  },
  {
   "cell_type": "code",
   "execution_count": 12,
   "id": "2c64e5d5",
   "metadata": {},
   "outputs": [],
   "source": [
    "# Add a constant term to the predictor variables\n",
    "X = sm.add_constant(X)"
   ]
  },
  {
   "cell_type": "code",
   "execution_count": 13,
   "id": "3f1817ca",
   "metadata": {},
   "outputs": [],
   "source": [
    "# Create a linear regression model\n",
    "model = sm.OLS(y, X).fit()"
   ]
  },
  {
   "cell_type": "code",
   "execution_count": 14,
   "id": "145989d7",
   "metadata": {},
   "outputs": [
    {
     "name": "stdout",
     "output_type": "stream",
     "text": [
      "const                         1.086386\n",
      "US_GDP_Billions               1.847622\n",
      "CPI                          -1.534371\n",
      "Disposable_Personal_Income   -1.507364\n",
      "US_Retail_Sales_Billions     -0.081123\n",
      "Inflation_Rate               -1.378635\n",
      "Unemployment_Rate             2.549706\n",
      "Home_Price_Index              1.684367\n",
      "dtype: float64\n"
     ]
    }
   ],
   "source": [
    "import statsmodels.api as sm\n",
    "import numpy as np\n",
    "\n",
    "# this will print the standarized coeff\n",
    "# Create a linear regression model\n",
    "model = sm.OLS(y, X).fit()\n",
    "\n",
    "# Obtain standardized coefficients\n",
    "coef_std = model.params / model.bse\n",
    "\n",
    "# Print the standardized coefficients\n",
    "print(coef_std)"
   ]
  },
  {
   "cell_type": "code",
   "execution_count": 15,
   "id": "eb3dae90",
   "metadata": {},
   "outputs": [
    {
     "name": "stdout",
     "output_type": "stream",
     "text": [
      "US_GDP_Billions               0.174581\n",
      "CPI                           0.144982\n",
      "Disposable_Personal_Income    0.142430\n",
      "US_Retail_Sales_Billions      0.007665\n",
      "Inflation_Rate                0.130267\n",
      "Unemployment_Rate             0.240920\n",
      "Home_Price_Index              0.159155\n",
      "dtype: float64\n"
     ]
    }
   ],
   "source": [
    "#This code will convert realtive contributions to a weight\n",
    "# Create a linear regression model\n",
    "model = sm.OLS(y, X).fit()\n",
    "\n",
    "# Obtain standardized coefficients\n",
    "coef_std = model.params / model.bse\n",
    "\n",
    "# Take the absolute value of each coefficient, excluding the constant term\n",
    "coef_abs = abs(coef_std[1:])\n",
    "\n",
    "# Sum the absolute values\n",
    "coef_abs_sum = coef_abs.sum()\n",
    "\n",
    "# Divide each coefficient by the sum of absolute values\n",
    "coef_norm = coef_abs / coef_abs_sum\n",
    "\n",
    "# Print the normalized coefficients\n",
    "print(coef_norm)"
   ]
  },
  {
   "cell_type": "code",
   "execution_count": 16,
   "id": "ae3de05e",
   "metadata": {},
   "outputs": [
    {
     "name": "stdout",
     "output_type": "stream",
     "text": [
      "                              OLS Regression Results                              \n",
      "==================================================================================\n",
      "Dep. Variable:     Alcohol_Sales_Millions   R-squared:                       0.679\n",
      "Model:                                OLS   Adj. R-squared:                  0.659\n",
      "Method:                     Least Squares   F-statistic:                     33.81\n",
      "Date:                    Sat, 22 Apr 2023   Prob (F-statistic):           7.10e-25\n",
      "Time:                            13:58:31   Log-Likelihood:                -927.41\n",
      "No. Observations:                     120   AIC:                             1871.\n",
      "Df Residuals:                         112   BIC:                             1893.\n",
      "Df Model:                               7                                         \n",
      "Covariance Type:                nonrobust                                         \n",
      "==============================================================================================\n",
      "                                 coef    std err          t      P>|t|      [0.025      0.975]\n",
      "----------------------------------------------------------------------------------------------\n",
      "const                       5139.6410   4730.952      1.086      0.280   -4234.134    1.45e+04\n",
      "US_GDP_Billions                0.5228      0.283      1.848      0.067      -0.038       1.084\n",
      "CPI                          -49.6892     32.384     -1.534      0.128    -113.854      14.476\n",
      "Disposable_Personal_Income    -0.0690      0.046     -1.507      0.135      -0.160       0.022\n",
      "US_Retail_Sales_Billions      -0.3912      4.823     -0.081      0.935      -9.947       9.164\n",
      "Inflation_Rate             -1.192e+04   8649.837     -1.379      0.171   -2.91e+04    5213.572\n",
      "Unemployment_Rate           1.895e+04   7433.832      2.550      0.012    4224.899    3.37e+04\n",
      "Home_Price_Index              19.5546     11.609      1.684      0.095      -3.448      42.557\n",
      "==============================================================================\n",
      "Omnibus:                       32.715   Durbin-Watson:                   2.026\n",
      "Prob(Omnibus):                  0.000   Jarque-Bera (JB):               54.232\n",
      "Skew:                           1.254   Prob(JB):                     1.67e-12\n",
      "Kurtosis:                       5.134   Cond. No.                     9.05e+06\n",
      "==============================================================================\n",
      "\n",
      "Notes:\n",
      "[1] Standard Errors assume that the covariance matrix of the errors is correctly specified.\n",
      "[2] The condition number is large, 9.05e+06. This might indicate that there are\n",
      "strong multicollinearity or other numerical problems.\n"
     ]
    }
   ],
   "source": [
    "# Print the summary statistics for the model\n",
    "print(model.summary())"
   ]
  },
  {
   "cell_type": "code",
   "execution_count": 17,
   "id": "61c0c676",
   "metadata": {},
   "outputs": [
    {
     "name": "stdout",
     "output_type": "stream",
     "text": [
      "                              AutoReg Model Results                               \n",
      "==================================================================================\n",
      "Dep. Variable:     Alcohol_Sales_Millions   No. Observations:                   18\n",
      "Model:                         AutoReg(8)   Log Likelihood                 -61.950\n",
      "Method:                   Conditional MLE   S.D. of innovations            118.642\n",
      "Date:                    Sat, 22 Apr 2023   AIC                            143.901\n",
      "Time:                            13:58:31   BIC                            146.927\n",
      "Sample:                                 8   HQIC                           140.582\n",
      "                                       18                                         \n",
      "=============================================================================================\n",
      "                                coef    std err          z      P>|z|      [0.025      0.975]\n",
      "---------------------------------------------------------------------------------------------\n",
      "const                     -5.538e+04      1e+04     -5.535      0.000    -7.5e+04   -3.58e+04\n",
      "Alcohol_Sales_Millions.L1     1.5548      0.254      6.112      0.000       1.056       2.053\n",
      "Alcohol_Sales_Millions.L2     0.9726      0.270      3.604      0.000       0.444       1.501\n",
      "Alcohol_Sales_Millions.L3     3.5808      0.659      5.434      0.000       2.289       4.872\n",
      "Alcohol_Sales_Millions.L4     4.9127      0.754      6.519      0.000       3.436       6.390\n",
      "Alcohol_Sales_Millions.L5     3.8017      0.629      6.041      0.000       2.568       5.035\n",
      "Alcohol_Sales_Millions.L6     5.1432      0.865      5.945      0.000       3.448       6.839\n",
      "Alcohol_Sales_Millions.L7     1.6533      0.245      6.735      0.000       1.172       2.134\n",
      "Alcohol_Sales_Millions.L8    -6.7338      0.841     -8.006      0.000      -8.382      -5.085\n",
      "                                    Roots                                    \n",
      "=============================================================================\n",
      "                  Real          Imaginary           Modulus         Frequency\n",
      "-----------------------------------------------------------------------------\n",
      "AR.1            0.3661           -0.0000j            0.3661           -0.0000\n",
      "AR.2           -0.8435           -0.3278j            0.9049           -0.4410\n",
      "AR.3           -0.8435           +0.3278j            0.9049            0.4410\n",
      "AR.4           -0.2178           -0.7298j            0.7616           -0.2962\n",
      "AR.5           -0.2178           +0.7298j            0.7616            0.2962\n",
      "AR.6            0.2784           -0.7166j            0.7688           -0.1910\n",
      "AR.7            0.2784           +0.7166j            0.7688            0.1910\n",
      "AR.8            1.4451           -0.0000j            1.4451           -0.0000\n",
      "-----------------------------------------------------------------------------\n"
     ]
    }
   ],
   "source": [
    "# Run the AutoReg Model\n",
    "# Create training and test data\n",
    "train_data = df['Alcohol_Sales_Millions'][:len(df)-102]\n",
    "test_data = df['Alcohol_Sales_Millions'][len(df)-102:]\n",
    "\n",
    "# Instantiate and fit the AR model with training data\n",
    "ar_model = AutoReg(train_data, lags=8).fit()\n",
    "\n",
    "# Print Summary\n",
    "print(ar_model.summary())"
   ]
  }
 ],
 "metadata": {
  "kernelspec": {
   "display_name": "Python 3 (ipykernel)",
   "language": "python",
   "name": "python3"
  },
  "language_info": {
   "codemirror_mode": {
    "name": "ipython",
    "version": 3
   },
   "file_extension": ".py",
   "mimetype": "text/x-python",
   "name": "python",
   "nbconvert_exporter": "python",
   "pygments_lexer": "ipython3",
   "version": "3.9.13"
  }
 },
 "nbformat": 4,
 "nbformat_minor": 5
}
