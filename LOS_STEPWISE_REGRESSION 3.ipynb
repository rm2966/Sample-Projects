{
 "cells": [
  {
   "cell_type": "code",
   "execution_count": 9,
   "id": "e5e77f57",
   "metadata": {},
   "outputs": [],
   "source": [
    "import pandas as pd\n",
    "import statsmodels.api as sm\n",
    "import matplotlib.pyplot as plt\n",
    "import seaborn as sns  # Ensure seaborn is imported"
   ]
  },
  {
   "cell_type": "code",
   "execution_count": 10,
   "id": "ad16b929",
   "metadata": {},
   "outputs": [
    {
     "name": "stderr",
     "output_type": "stream",
     "text": [
      "/Users/rajeevmaharaj/opt/anaconda3/lib/python3.9/site-packages/openpyxl/worksheet/_read_only.py:79: UserWarning: Web Extension extension is not supported and will be removed\n",
      "  for idx, row in parser.parse():\n"
     ]
    }
   ],
   "source": [
    "# Load the data\n",
    "data = pd.read_excel('/Users/rajeevmaharaj/Desktop/BANYIT/PYTHON_LOS.xlsm')\n",
    "\n"
   ]
  },
  {
   "cell_type": "code",
   "execution_count": 11,
   "id": "d572556b",
   "metadata": {},
   "outputs": [
    {
     "data": {
      "text/plain": [
       "'/Users/rajeevmaharaj/Desktop'"
      ]
     },
     "execution_count": 11,
     "metadata": {},
     "output_type": "execute_result"
    }
   ],
   "source": [
    "pwd\n"
   ]
  },
  {
   "cell_type": "code",
   "execution_count": 12,
   "id": "54ef71e0",
   "metadata": {},
   "outputs": [],
   "source": [
    "# Define the target variable and predictors\n",
    "target = 'LOSdays'\n",
    "predictors = data.columns.drop(target)\n",
    "\n"
   ]
  },
  {
   "cell_type": "code",
   "execution_count": 13,
   "id": "e18ec567",
   "metadata": {},
   "outputs": [],
   "source": [
    "#Normal regresssion\n",
    "\n",
    "# Standardize the predictor variables\n",
    "data_standardized = (data[predictors] - data[predictors].mean()) / data[predictors].std()\n",
    "data_standardized[target] = data[target]  # Keep the target variable unchanged\n",
    "\n"
   ]
  },
  {
   "cell_type": "code",
   "execution_count": 5,
   "id": "51cb5d06",
   "metadata": {},
   "outputs": [],
   "source": [
    "# Initialize the list of included predictors\n",
    "included = []\n",
    "\n",
    "while True:\n",
    "    changed = False\n",
    "    \n",
    "    # Forward step\n",
    "    excluded = list(set(predictors) - set(included))\n",
    "    new_pval = pd.Series(index=excluded, dtype=float)\n",
    "    for new_column in excluded:\n",
    "        model = sm.OLS(data_standardized[target], sm.add_constant(data_standardized[included + [new_column]])).fit()\n",
    "        new_pval[new_column] = model.pvalues[new_column]\n",
    "    best_pval = new_pval.min()\n",
    "    if best_pval < 0.05:  # Threshold for adding variables\n",
    "        best_feature = new_pval.idxmin()\n",
    "        included.append(best_feature)\n",
    "        changed = True\n",
    "\n",
    "    # Backward step\n",
    "    model = sm.OLS(data_standardized[target], sm.add_constant(data_standardized[included])).fit()\n",
    "    pvalues = model.pvalues.iloc[1:]\n",
    "    worst_pval = pvalues.max()\n",
    "    if worst_pval > 0.05:  # Threshold for removing variables\n",
    "        worst_feature = pvalues.idxmax()\n",
    "        included.remove(worst_feature)\n",
    "        changed = True\n",
    "\n",
    "    if not changed:\n",
    "        break\n",
    "\n"
   ]
  },
  {
   "cell_type": "code",
   "execution_count": 6,
   "id": "5879ec94",
   "metadata": {},
   "outputs": [
    {
     "name": "stdout",
     "output_type": "stream",
     "text": [
      "                            OLS Regression Results                            \n",
      "==============================================================================\n",
      "Dep. Variable:                LOSdays   R-squared:                       0.467\n",
      "Model:                            OLS   Adj. R-squared:                  0.466\n",
      "Method:                 Least Squares   F-statistic:                     1911.\n",
      "Date:                Wed, 03 Apr 2024   Prob (F-statistic):               0.00\n",
      "Time:                        13:59:25   Log-Likelihood:            -2.1389e+05\n",
      "No. Observations:               58976   AIC:                         4.278e+05\n",
      "Df Residuals:                   58948   BIC:                         4.281e+05\n",
      "Df Model:                          27                                         \n",
      "Covariance Type:            nonrobust                                         \n",
      "====================================================================================\n",
      "                       coef    std err          t      P>|t|      [0.025      0.975]\n",
      "------------------------------------------------------------------------------------\n",
      "const               10.1167      0.038    269.403      0.000      10.043      10.190\n",
      "Gender              -0.0053      0.038     -0.140      0.889      -0.079       0.069\n",
      "age              -1.319e+12   1.93e+12     -0.683      0.494    -5.1e+12    2.46e+12\n",
      "Adult             1.002e+12   1.47e+12      0.683      0.494   -1.87e+12    3.88e+12\n",
      "Teen              6.018e+11   8.81e+11      0.683      0.494   -1.12e+12    2.33e+12\n",
      "Middle Age        2.702e+12   3.95e+12      0.683      0.494   -5.05e+12    1.05e+13\n",
      "Child             2.681e+12   3.92e+12      0.683      0.494   -5.01e+12    1.04e+13\n",
      "Senior            4.502e+12   6.59e+12      0.683      0.494   -8.41e+12    1.74e+13\n",
      "EMERGENCY         1.292e+12   1.89e+12      0.683      0.494   -2.41e+12       5e+12\n",
      "NEWBORN           1.643e+12   2.41e+12      0.683      0.494   -3.07e+12    6.36e+12\n",
      "URGENT            1.014e+12   1.48e+12      0.683      0.494   -1.89e+12    3.92e+12\n",
      "ELECTIVE          2.962e+12   4.34e+12      0.683      0.494   -5.54e+12    1.15e+13\n",
      "admission        -2.049e+12      3e+12     -0.683      0.494   -7.93e+12    3.83e+12\n",
      "Private          -1.307e+10   1.91e+10     -0.683      0.494   -5.06e+10    2.44e+10\n",
      "Medicare         -1.343e+10   1.97e+10     -0.683      0.494    -5.2e+10    2.51e+10\n",
      "Medicaid         -7.998e+09   1.17e+10     -0.683      0.494   -3.09e+10    1.49e+10\n",
      "Government       -4.604e+09   6.74e+09     -0.683      0.494   -1.78e+10     8.6e+09\n",
      "Self Pay         -2.723e+09   3.99e+09     -0.683      0.494   -1.05e+10    5.09e+09\n",
      "NumCallouts       7.255e+07   1.06e+08      0.683      0.494   -1.36e+08    2.81e+08\n",
      "NumDiagnosis      3.669e+09   5.37e+09      0.683      0.494   -6.86e+09    1.42e+10\n",
      "NumProcs           1.58e+09   2.31e+09      0.683      0.494   -2.95e+09    6.11e+09\n",
      "NumCPTevents      8.999e+08   1.32e+09      0.683      0.494   -1.68e+09    3.48e+09\n",
      "NumInput          2.771e+10   4.06e+10      0.683      0.494   -5.18e+10    1.07e+11\n",
      "NumLabs           3.377e+10   4.94e+10      0.683      0.494   -6.31e+10    1.31e+11\n",
      "NumMicroLabs      1.881e+09   2.75e+09      0.683      0.494   -3.51e+09    7.28e+09\n",
      "NumNotes          4.737e+10   6.93e+10      0.683      0.494   -8.85e+10    1.83e+11\n",
      "NumOutput         3.352e+09   4.91e+09      0.683      0.494   -6.27e+09     1.3e+10\n",
      "NumRx             5.594e+09   8.19e+09      0.683      0.494   -1.05e+10    2.16e+10\n",
      "NumProcEvents     9.401e+08   1.38e+09      0.683      0.494   -1.76e+09    3.64e+09\n",
      "NumTransfers      1.407e+09   2.06e+09      0.683      0.494   -2.63e+09    5.44e+09\n",
      "NumChartEvents    2.842e+11   4.16e+11      0.683      0.494   -5.31e+11     1.1e+12\n",
      "ExpiredHospital      0.3492      0.043      8.165      0.000       0.265       0.433\n",
      "TotalNumInteract  -3.48e+11   5.09e+11     -0.683      0.494   -1.35e+12     6.5e+11\n",
      "LOSgroupNum          8.4557      0.043    196.334      0.000       8.371       8.540\n",
      "==============================================================================\n",
      "Omnibus:                    71876.344   Durbin-Watson:                   1.990\n",
      "Prob(Omnibus):                  0.000   Jarque-Bera (JB):         14018400.569\n",
      "Skew:                           6.493   Prob(JB):                         0.00\n",
      "Kurtosis:                      77.405   Cond. No.                     8.87e+15\n",
      "==============================================================================\n",
      "\n",
      "Notes:\n",
      "[1] Standard Errors assume that the covariance matrix of the errors is correctly specified.\n",
      "[2] The smallest eigenvalue is 4.53e-27. This might indicate that there are\n",
      "strong multicollinearity problems or that the design matrix is singular.\n"
     ]
    }
   ],
   "source": [
    "\n",
    "# Define the target variable and predictors\n",
    "target = 'LOSdays'\n",
    "predictors = ['Gender', 'age', 'Adult ', 'Teen', 'Middle Age ', 'Child ', 'Senior', \n",
    "              'EMERGENCY', 'NEWBORN', 'URGENT', 'ELECTIVE', 'admission', 'Private ', \n",
    "              'Medicare', 'Medicaid', 'Government', 'Self Pay ', 'NumCallouts', \n",
    "              'NumDiagnosis', 'NumProcs', 'NumCPTevents', 'NumInput', 'NumLabs', \n",
    "              'NumMicroLabs', 'NumNotes', 'NumOutput', 'NumRx', 'NumProcEvents', \n",
    "              'NumTransfers', 'NumChartEvents', 'ExpiredHospital', 'TotalNumInteract', 'LOSgroupNum']\n",
    "\n",
    "# Standardize the predictor variables\n",
    "data_standardized = (data[predictors] - data[predictors].mean()) / data[predictors].std()\n",
    "data_standardized[target] = data[target]  # Keep the target variable unchanged\n",
    "\n",
    "# Fit the model using all specified predictors\n",
    "model = sm.OLS(data_standardized[target], sm.add_constant(data_standardized[predictors])).fit()\n",
    "\n",
    "# Display the summary of the model\n",
    "print(model.summary())\n"
   ]
  },
  {
   "cell_type": "code",
   "execution_count": 7,
   "id": "51bc3316",
   "metadata": {},
   "outputs": [
    {
     "name": "stdout",
     "output_type": "stream",
     "text": [
      "            Variable           VIF\n",
      "0              const  5.597676e+01\n",
      "1             Gender  1.012969e+00\n",
      "2                age  8.215558e+06\n",
      "3             Adult   5.292332e+06\n",
      "4               Teen  1.156375e+07\n",
      "5        Middle Age   3.361260e+05\n",
      "6             Child   4.922303e+05\n",
      "7             Senior  3.284058e+05\n",
      "8          EMERGENCY  3.581148e+06\n",
      "9            NEWBORN  8.652295e+06\n",
      "10            URGENT  6.865840e+07\n",
      "11          ELECTIVE  9.145071e+05\n",
      "12         admission  2.367117e+06\n",
      "13          Private   1.668303e+05\n",
      "14          Medicare  1.433292e+06\n",
      "15          Medicaid  1.613038e+07\n",
      "16        Government  8.521864e+07\n",
      "17         Self Pay   7.177074e+07\n",
      "18       NumCallouts  6.828993e+05\n",
      "19      NumDiagnosis  5.264895e+07\n",
      "20          NumProcs  3.811260e+07\n",
      "21      NumCPTevents  4.940163e+07\n",
      "22          NumInput  9.216637e+06\n",
      "23           NumLabs  9.481851e+07\n",
      "24      NumMicroLabs  3.348523e+07\n",
      "25          NumNotes  2.881617e+08\n",
      "26         NumOutput  1.143749e+07\n",
      "27             NumRx  4.786118e+06\n",
      "28     NumProcEvents  2.154328e+07\n",
      "29      NumTransfers  5.793173e+07\n",
      "30    NumChartEvents  7.362879e+06\n",
      "31   ExpiredHospital  1.303119e+00\n",
      "32  TotalNumInteract  8.568685e+06\n",
      "33       LOSgroupNum  1.319768e+00\n"
     ]
    }
   ],
   "source": [
    "from statsmodels.stats.outliers_influence import variance_inflation_factor\n",
    "\n",
    "# Add a constant to the standardized data for VIF calculation\n",
    "X = sm.add_constant(data_standardized[predictors])\n",
    "\n",
    "# Calculate VIF for each explanatory variable\n",
    "vif_data = pd.DataFrame()\n",
    "vif_data[\"Variable\"] = X.columns\n",
    "vif_data[\"VIF\"] = [variance_inflation_factor(X.values, i) for i in range(X.shape[1])]\n",
    "\n",
    "# Display the VIF results\n",
    "print(vif_data)\n"
   ]
  },
  {
   "cell_type": "code",
   "execution_count": 11,
   "id": "101e9c0e",
   "metadata": {},
   "outputs": [
    {
     "name": "stderr",
     "output_type": "stream",
     "text": [
      "/var/folders/ts/47zhr5md6_551l4yy625cf780000gn/T/ipykernel_17483/2360036804.py:24: FutureWarning: The default dtype for empty Series will be 'object' instead of 'float64' in a future version. Specify a dtype explicitly to silence this warning.\n",
      "  new_pval = pd.Series(index=excluded)\n"
     ]
    },
    {
     "name": "stdout",
     "output_type": "stream",
     "text": [
      "Add  LOSgroupNum                    with p-value 0.0\n"
     ]
    },
    {
     "name": "stderr",
     "output_type": "stream",
     "text": [
      "/var/folders/ts/47zhr5md6_551l4yy625cf780000gn/T/ipykernel_17483/2360036804.py:24: FutureWarning: The default dtype for empty Series will be 'object' instead of 'float64' in a future version. Specify a dtype explicitly to silence this warning.\n",
      "  new_pval = pd.Series(index=excluded)\n"
     ]
    },
    {
     "name": "stdout",
     "output_type": "stream",
     "text": [
      "Add  NEWBORN                        with p-value 0.0\n"
     ]
    },
    {
     "name": "stderr",
     "output_type": "stream",
     "text": [
      "/var/folders/ts/47zhr5md6_551l4yy625cf780000gn/T/ipykernel_17483/2360036804.py:24: FutureWarning: The default dtype for empty Series will be 'object' instead of 'float64' in a future version. Specify a dtype explicitly to silence this warning.\n",
      "  new_pval = pd.Series(index=excluded)\n"
     ]
    },
    {
     "name": "stdout",
     "output_type": "stream",
     "text": [
      "Add  LOSdays                        with p-value 0.0\n"
     ]
    },
    {
     "name": "stderr",
     "output_type": "stream",
     "text": [
      "/var/folders/ts/47zhr5md6_551l4yy625cf780000gn/T/ipykernel_17483/2360036804.py:24: FutureWarning: The default dtype for empty Series will be 'object' instead of 'float64' in a future version. Specify a dtype explicitly to silence this warning.\n",
      "  new_pval = pd.Series(index=excluded)\n"
     ]
    },
    {
     "name": "stdout",
     "output_type": "stream",
     "text": [
      "Add  Government                     with p-value 0.0\n"
     ]
    },
    {
     "name": "stderr",
     "output_type": "stream",
     "text": [
      "/var/folders/ts/47zhr5md6_551l4yy625cf780000gn/T/ipykernel_17483/2360036804.py:24: FutureWarning: The default dtype for empty Series will be 'object' instead of 'float64' in a future version. Specify a dtype explicitly to silence this warning.\n",
      "  new_pval = pd.Series(index=excluded)\n"
     ]
    },
    {
     "name": "stdout",
     "output_type": "stream",
     "text": [
      "Add  Middle Age                     with p-value 0.0\n"
     ]
    },
    {
     "name": "stderr",
     "output_type": "stream",
     "text": [
      "/var/folders/ts/47zhr5md6_551l4yy625cf780000gn/T/ipykernel_17483/2360036804.py:24: FutureWarning: The default dtype for empty Series will be 'object' instead of 'float64' in a future version. Specify a dtype explicitly to silence this warning.\n",
      "  new_pval = pd.Series(index=excluded)\n"
     ]
    },
    {
     "name": "stdout",
     "output_type": "stream",
     "text": [
      "Add  Teen                           with p-value 0.0\n"
     ]
    },
    {
     "name": "stderr",
     "output_type": "stream",
     "text": [
      "/var/folders/ts/47zhr5md6_551l4yy625cf780000gn/T/ipykernel_17483/2360036804.py:24: FutureWarning: The default dtype for empty Series will be 'object' instead of 'float64' in a future version. Specify a dtype explicitly to silence this warning.\n",
      "  new_pval = pd.Series(index=excluded)\n"
     ]
    },
    {
     "name": "stdout",
     "output_type": "stream",
     "text": [
      "Add  Self Pay                       with p-value 0.0\n"
     ]
    },
    {
     "name": "stderr",
     "output_type": "stream",
     "text": [
      "/var/folders/ts/47zhr5md6_551l4yy625cf780000gn/T/ipykernel_17483/2360036804.py:24: FutureWarning: The default dtype for empty Series will be 'object' instead of 'float64' in a future version. Specify a dtype explicitly to silence this warning.\n",
      "  new_pval = pd.Series(index=excluded)\n"
     ]
    },
    {
     "name": "stdout",
     "output_type": "stream",
     "text": [
      "Add  Gender                         with p-value 0.0\n"
     ]
    },
    {
     "name": "stderr",
     "output_type": "stream",
     "text": [
      "/var/folders/ts/47zhr5md6_551l4yy625cf780000gn/T/ipykernel_17483/2360036804.py:24: FutureWarning: The default dtype for empty Series will be 'object' instead of 'float64' in a future version. Specify a dtype explicitly to silence this warning.\n",
      "  new_pval = pd.Series(index=excluded)\n"
     ]
    },
    {
     "name": "stdout",
     "output_type": "stream",
     "text": [
      "Add  NumProcs                       with p-value 0.0\n"
     ]
    },
    {
     "name": "stderr",
     "output_type": "stream",
     "text": [
      "/var/folders/ts/47zhr5md6_551l4yy625cf780000gn/T/ipykernel_17483/2360036804.py:24: FutureWarning: The default dtype for empty Series will be 'object' instead of 'float64' in a future version. Specify a dtype explicitly to silence this warning.\n",
      "  new_pval = pd.Series(index=excluded)\n"
     ]
    },
    {
     "name": "stdout",
     "output_type": "stream",
     "text": [
      "Add  TotalNumInteract               with p-value 0.0\n"
     ]
    },
    {
     "name": "stderr",
     "output_type": "stream",
     "text": [
      "/var/folders/ts/47zhr5md6_551l4yy625cf780000gn/T/ipykernel_17483/2360036804.py:24: FutureWarning: The default dtype for empty Series will be 'object' instead of 'float64' in a future version. Specify a dtype explicitly to silence this warning.\n",
      "  new_pval = pd.Series(index=excluded)\n"
     ]
    },
    {
     "name": "stdout",
     "output_type": "stream",
     "text": [
      "Add  NumRx                          with p-value 0.0\n"
     ]
    },
    {
     "name": "stderr",
     "output_type": "stream",
     "text": [
      "/var/folders/ts/47zhr5md6_551l4yy625cf780000gn/T/ipykernel_17483/2360036804.py:24: FutureWarning: The default dtype for empty Series will be 'object' instead of 'float64' in a future version. Specify a dtype explicitly to silence this warning.\n",
      "  new_pval = pd.Series(index=excluded)\n"
     ]
    },
    {
     "name": "stdout",
     "output_type": "stream",
     "text": [
      "Add  Senior                         with p-value 0.0\n"
     ]
    },
    {
     "name": "stderr",
     "output_type": "stream",
     "text": [
      "/var/folders/ts/47zhr5md6_551l4yy625cf780000gn/T/ipykernel_17483/2360036804.py:24: FutureWarning: The default dtype for empty Series will be 'object' instead of 'float64' in a future version. Specify a dtype explicitly to silence this warning.\n",
      "  new_pval = pd.Series(index=excluded)\n"
     ]
    },
    {
     "name": "stdout",
     "output_type": "stream",
     "text": [
      "Add  Adult                          with p-value 0.0\n",
      "Drop Senior                         with p-value 0.413468\n"
     ]
    },
    {
     "name": "stderr",
     "output_type": "stream",
     "text": [
      "/var/folders/ts/47zhr5md6_551l4yy625cf780000gn/T/ipykernel_17483/2360036804.py:24: FutureWarning: The default dtype for empty Series will be 'object' instead of 'float64' in a future version. Specify a dtype explicitly to silence this warning.\n",
      "  new_pval = pd.Series(index=excluded)\n"
     ]
    },
    {
     "name": "stdout",
     "output_type": "stream",
     "text": [
      "Add  NumTransfers                   with p-value 0.0\n"
     ]
    },
    {
     "name": "stderr",
     "output_type": "stream",
     "text": [
      "/var/folders/ts/47zhr5md6_551l4yy625cf780000gn/T/ipykernel_17483/2360036804.py:24: FutureWarning: The default dtype for empty Series will be 'object' instead of 'float64' in a future version. Specify a dtype explicitly to silence this warning.\n",
      "  new_pval = pd.Series(index=excluded)\n"
     ]
    },
    {
     "name": "stdout",
     "output_type": "stream",
     "text": [
      "Add  NumProcEvents                  with p-value 0.0\n"
     ]
    },
    {
     "name": "stderr",
     "output_type": "stream",
     "text": [
      "/var/folders/ts/47zhr5md6_551l4yy625cf780000gn/T/ipykernel_17483/2360036804.py:24: FutureWarning: The default dtype for empty Series will be 'object' instead of 'float64' in a future version. Specify a dtype explicitly to silence this warning.\n",
      "  new_pval = pd.Series(index=excluded)\n"
     ]
    },
    {
     "name": "stdout",
     "output_type": "stream",
     "text": [
      "Add  ExpiredHospital                with p-value 0.0\n"
     ]
    },
    {
     "name": "stderr",
     "output_type": "stream",
     "text": [
      "/var/folders/ts/47zhr5md6_551l4yy625cf780000gn/T/ipykernel_17483/2360036804.py:24: FutureWarning: The default dtype for empty Series will be 'object' instead of 'float64' in a future version. Specify a dtype explicitly to silence this warning.\n",
      "  new_pval = pd.Series(index=excluded)\n"
     ]
    },
    {
     "name": "stdout",
     "output_type": "stream",
     "text": [
      "Add  EMERGENCY                      with p-value 0.0\n",
      "Drop Teen                           with p-value 0.370143\n"
     ]
    },
    {
     "name": "stderr",
     "output_type": "stream",
     "text": [
      "/var/folders/ts/47zhr5md6_551l4yy625cf780000gn/T/ipykernel_17483/2360036804.py:24: FutureWarning: The default dtype for empty Series will be 'object' instead of 'float64' in a future version. Specify a dtype explicitly to silence this warning.\n",
      "  new_pval = pd.Series(index=excluded)\n"
     ]
    },
    {
     "name": "stdout",
     "output_type": "stream",
     "text": [
      "Add  Medicaid                       with p-value 0.0\n",
      "Drop Middle Age                     with p-value 0.863787\n"
     ]
    },
    {
     "name": "stderr",
     "output_type": "stream",
     "text": [
      "/var/folders/ts/47zhr5md6_551l4yy625cf780000gn/T/ipykernel_17483/2360036804.py:24: FutureWarning: The default dtype for empty Series will be 'object' instead of 'float64' in a future version. Specify a dtype explicitly to silence this warning.\n",
      "  new_pval = pd.Series(index=excluded)\n"
     ]
    },
    {
     "name": "stdout",
     "output_type": "stream",
     "text": [
      "Add  ELECTIVE                       with p-value 0.0\n"
     ]
    },
    {
     "name": "stderr",
     "output_type": "stream",
     "text": [
      "/var/folders/ts/47zhr5md6_551l4yy625cf780000gn/T/ipykernel_17483/2360036804.py:24: FutureWarning: The default dtype for empty Series will be 'object' instead of 'float64' in a future version. Specify a dtype explicitly to silence this warning.\n",
      "  new_pval = pd.Series(index=excluded)\n"
     ]
    },
    {
     "name": "stdout",
     "output_type": "stream",
     "text": [
      "Add  Private                        with p-value 0.0\n",
      "Drop Self Pay                       with p-value 0.0555301\n"
     ]
    },
    {
     "name": "stderr",
     "output_type": "stream",
     "text": [
      "/var/folders/ts/47zhr5md6_551l4yy625cf780000gn/T/ipykernel_17483/2360036804.py:24: FutureWarning: The default dtype for empty Series will be 'object' instead of 'float64' in a future version. Specify a dtype explicitly to silence this warning.\n",
      "  new_pval = pd.Series(index=excluded)\n"
     ]
    },
    {
     "name": "stdout",
     "output_type": "stream",
     "text": [
      "Add  URGENT                         with p-value 0.0\n",
      "Drop Adult                          with p-value 0.94995\n"
     ]
    },
    {
     "name": "stderr",
     "output_type": "stream",
     "text": [
      "/var/folders/ts/47zhr5md6_551l4yy625cf780000gn/T/ipykernel_17483/2360036804.py:24: FutureWarning: The default dtype for empty Series will be 'object' instead of 'float64' in a future version. Specify a dtype explicitly to silence this warning.\n",
      "  new_pval = pd.Series(index=excluded)\n"
     ]
    },
    {
     "name": "stdout",
     "output_type": "stream",
     "text": [
      "Add  Self Pay                       with p-value 0.0\n",
      "Drop Gender                         with p-value 0.715166\n"
     ]
    },
    {
     "name": "stderr",
     "output_type": "stream",
     "text": [
      "/var/folders/ts/47zhr5md6_551l4yy625cf780000gn/T/ipykernel_17483/2360036804.py:24: FutureWarning: The default dtype for empty Series will be 'object' instead of 'float64' in a future version. Specify a dtype explicitly to silence this warning.\n",
      "  new_pval = pd.Series(index=excluded)\n"
     ]
    },
    {
     "name": "stdout",
     "output_type": "stream",
     "text": [
      "Add  Middle Age                     with p-value 0.0\n",
      "Drop EMERGENCY                      with p-value 0.837734\n"
     ]
    },
    {
     "name": "stderr",
     "output_type": "stream",
     "text": [
      "/var/folders/ts/47zhr5md6_551l4yy625cf780000gn/T/ipykernel_17483/2360036804.py:24: FutureWarning: The default dtype for empty Series will be 'object' instead of 'float64' in a future version. Specify a dtype explicitly to silence this warning.\n",
      "  new_pval = pd.Series(index=excluded)\n"
     ]
    },
    {
     "name": "stdout",
     "output_type": "stream",
     "text": [
      "Add  NumCPTevents                   with p-value 0.0\n"
     ]
    },
    {
     "name": "stderr",
     "output_type": "stream",
     "text": [
      "/var/folders/ts/47zhr5md6_551l4yy625cf780000gn/T/ipykernel_17483/2360036804.py:24: FutureWarning: The default dtype for empty Series will be 'object' instead of 'float64' in a future version. Specify a dtype explicitly to silence this warning.\n",
      "  new_pval = pd.Series(index=excluded)\n"
     ]
    },
    {
     "name": "stdout",
     "output_type": "stream",
     "text": [
      "Add  Medicare                       with p-value 0.0\n"
     ]
    },
    {
     "name": "stderr",
     "output_type": "stream",
     "text": [
      "/var/folders/ts/47zhr5md6_551l4yy625cf780000gn/T/ipykernel_17483/2360036804.py:24: FutureWarning: The default dtype for empty Series will be 'object' instead of 'float64' in a future version. Specify a dtype explicitly to silence this warning.\n",
      "  new_pval = pd.Series(index=excluded)\n"
     ]
    },
    {
     "name": "stdout",
     "output_type": "stream",
     "text": [
      "Add  NumChartEvents                 with p-value 0.0\n"
     ]
    },
    {
     "name": "stderr",
     "output_type": "stream",
     "text": [
      "/var/folders/ts/47zhr5md6_551l4yy625cf780000gn/T/ipykernel_17483/2360036804.py:24: FutureWarning: The default dtype for empty Series will be 'object' instead of 'float64' in a future version. Specify a dtype explicitly to silence this warning.\n",
      "  new_pval = pd.Series(index=excluded)\n"
     ]
    },
    {
     "name": "stdout",
     "output_type": "stream",
     "text": [
      "Add  Teen                           with p-value 0.0\n"
     ]
    },
    {
     "name": "stderr",
     "output_type": "stream",
     "text": [
      "/var/folders/ts/47zhr5md6_551l4yy625cf780000gn/T/ipykernel_17483/2360036804.py:24: FutureWarning: The default dtype for empty Series will be 'object' instead of 'float64' in a future version. Specify a dtype explicitly to silence this warning.\n",
      "  new_pval = pd.Series(index=excluded)\n"
     ]
    },
    {
     "name": "stdout",
     "output_type": "stream",
     "text": [
      "Add  NumLabs                        with p-value 0.0\n"
     ]
    },
    {
     "name": "stderr",
     "output_type": "stream",
     "text": [
      "/var/folders/ts/47zhr5md6_551l4yy625cf780000gn/T/ipykernel_17483/2360036804.py:24: FutureWarning: The default dtype for empty Series will be 'object' instead of 'float64' in a future version. Specify a dtype explicitly to silence this warning.\n",
      "  new_pval = pd.Series(index=excluded)\n"
     ]
    },
    {
     "name": "stdout",
     "output_type": "stream",
     "text": [
      "Add  Adult                          with p-value 0.0\n",
      "Drop NumTransfers                   with p-value 0.741029\n"
     ]
    },
    {
     "name": "stderr",
     "output_type": "stream",
     "text": [
      "/var/folders/ts/47zhr5md6_551l4yy625cf780000gn/T/ipykernel_17483/2360036804.py:24: FutureWarning: The default dtype for empty Series will be 'object' instead of 'float64' in a future version. Specify a dtype explicitly to silence this warning.\n",
      "  new_pval = pd.Series(index=excluded)\n"
     ]
    },
    {
     "name": "stdout",
     "output_type": "stream",
     "text": [
      "Add  Senior                         with p-value 0.0\n"
     ]
    },
    {
     "name": "stderr",
     "output_type": "stream",
     "text": [
      "/var/folders/ts/47zhr5md6_551l4yy625cf780000gn/T/ipykernel_17483/2360036804.py:24: FutureWarning: The default dtype for empty Series will be 'object' instead of 'float64' in a future version. Specify a dtype explicitly to silence this warning.\n",
      "  new_pval = pd.Series(index=excluded)\n"
     ]
    },
    {
     "name": "stdout",
     "output_type": "stream",
     "text": [
      "Add  NumTransfers                   with p-value 0.0\n",
      "Drop Government                     with p-value 0.110202\n"
     ]
    },
    {
     "name": "stderr",
     "output_type": "stream",
     "text": [
      "/var/folders/ts/47zhr5md6_551l4yy625cf780000gn/T/ipykernel_17483/2360036804.py:24: FutureWarning: The default dtype for empty Series will be 'object' instead of 'float64' in a future version. Specify a dtype explicitly to silence this warning.\n",
      "  new_pval = pd.Series(index=excluded)\n"
     ]
    },
    {
     "name": "stdout",
     "output_type": "stream",
     "text": [
      "Add  Gender                         with p-value 0.0\n",
      "Drop NumTransfers                   with p-value 0.283522\n"
     ]
    },
    {
     "name": "stderr",
     "output_type": "stream",
     "text": [
      "/var/folders/ts/47zhr5md6_551l4yy625cf780000gn/T/ipykernel_17483/2360036804.py:24: FutureWarning: The default dtype for empty Series will be 'object' instead of 'float64' in a future version. Specify a dtype explicitly to silence this warning.\n",
      "  new_pval = pd.Series(index=excluded)\n"
     ]
    },
    {
     "name": "stdout",
     "output_type": "stream",
     "text": [
      "Add  Child                          with p-value 0.0\n",
      "Drop Self Pay                       with p-value 0.812934\n"
     ]
    },
    {
     "name": "stderr",
     "output_type": "stream",
     "text": [
      "/var/folders/ts/47zhr5md6_551l4yy625cf780000gn/T/ipykernel_17483/2360036804.py:24: FutureWarning: The default dtype for empty Series will be 'object' instead of 'float64' in a future version. Specify a dtype explicitly to silence this warning.\n",
      "  new_pval = pd.Series(index=excluded)\n"
     ]
    },
    {
     "name": "stdout",
     "output_type": "stream",
     "text": [
      "Add  Government                     with p-value 0.0\n",
      "Drop Teen                           with p-value 0.624717\n"
     ]
    },
    {
     "name": "stderr",
     "output_type": "stream",
     "text": [
      "/var/folders/ts/47zhr5md6_551l4yy625cf780000gn/T/ipykernel_17483/2360036804.py:24: FutureWarning: The default dtype for empty Series will be 'object' instead of 'float64' in a future version. Specify a dtype explicitly to silence this warning.\n",
      "  new_pval = pd.Series(index=excluded)\n"
     ]
    },
    {
     "name": "stdout",
     "output_type": "stream",
     "text": [
      "Add  NumDiagnosis                   with p-value 0.0\n",
      "Drop Medicare                       with p-value 0.374736\n"
     ]
    },
    {
     "name": "stderr",
     "output_type": "stream",
     "text": [
      "/var/folders/ts/47zhr5md6_551l4yy625cf780000gn/T/ipykernel_17483/2360036804.py:24: FutureWarning: The default dtype for empty Series will be 'object' instead of 'float64' in a future version. Specify a dtype explicitly to silence this warning.\n",
      "  new_pval = pd.Series(index=excluded)\n"
     ]
    },
    {
     "name": "stdout",
     "output_type": "stream",
     "text": [
      "Add  NumNotes                       with p-value 0.0\n",
      "Drop Private                        with p-value 0.256271\n"
     ]
    },
    {
     "name": "stderr",
     "output_type": "stream",
     "text": [
      "/var/folders/ts/47zhr5md6_551l4yy625cf780000gn/T/ipykernel_17483/2360036804.py:24: FutureWarning: The default dtype for empty Series will be 'object' instead of 'float64' in a future version. Specify a dtype explicitly to silence this warning.\n",
      "  new_pval = pd.Series(index=excluded)\n"
     ]
    },
    {
     "name": "stdout",
     "output_type": "stream",
     "text": [
      "Add  NumCallouts                    with p-value 0.0\n",
      "Drop TotalNumInteract               with p-value 0.341052\n"
     ]
    },
    {
     "name": "stderr",
     "output_type": "stream",
     "text": [
      "/var/folders/ts/47zhr5md6_551l4yy625cf780000gn/T/ipykernel_17483/2360036804.py:24: FutureWarning: The default dtype for empty Series will be 'object' instead of 'float64' in a future version. Specify a dtype explicitly to silence this warning.\n",
      "  new_pval = pd.Series(index=excluded)\n"
     ]
    },
    {
     "name": "stdout",
     "output_type": "stream",
     "text": [
      "Add  NumOutput                      with p-value 0.0\n",
      "Drop Medicaid                       with p-value 0.497293\n"
     ]
    },
    {
     "name": "stderr",
     "output_type": "stream",
     "text": [
      "/var/folders/ts/47zhr5md6_551l4yy625cf780000gn/T/ipykernel_17483/2360036804.py:24: FutureWarning: The default dtype for empty Series will be 'object' instead of 'float64' in a future version. Specify a dtype explicitly to silence this warning.\n",
      "  new_pval = pd.Series(index=excluded)\n"
     ]
    },
    {
     "name": "stdout",
     "output_type": "stream",
     "text": [
      "Add  Medicare                       with p-value 1.57164e-70\n",
      "Drop NumCPTevents                   with p-value 0.180293\n"
     ]
    },
    {
     "name": "stderr",
     "output_type": "stream",
     "text": [
      "/var/folders/ts/47zhr5md6_551l4yy625cf780000gn/T/ipykernel_17483/2360036804.py:24: FutureWarning: The default dtype for empty Series will be 'object' instead of 'float64' in a future version. Specify a dtype explicitly to silence this warning.\n",
      "  new_pval = pd.Series(index=excluded)\n"
     ]
    },
    {
     "name": "stdout",
     "output_type": "stream",
     "text": [
      "Add  Self Pay                       with p-value 0.0\n",
      "Drop Senior                         with p-value 0.82038\n"
     ]
    },
    {
     "name": "stderr",
     "output_type": "stream",
     "text": [
      "/var/folders/ts/47zhr5md6_551l4yy625cf780000gn/T/ipykernel_17483/2360036804.py:24: FutureWarning: The default dtype for empty Series will be 'object' instead of 'float64' in a future version. Specify a dtype explicitly to silence this warning.\n",
      "  new_pval = pd.Series(index=excluded)\n"
     ]
    },
    {
     "name": "stdout",
     "output_type": "stream",
     "text": [
      "Add  NumInput                       with p-value 0.0\n",
      "Drop Adult                          with p-value 0.924838\n"
     ]
    },
    {
     "name": "stderr",
     "output_type": "stream",
     "text": [
      "/var/folders/ts/47zhr5md6_551l4yy625cf780000gn/T/ipykernel_17483/2360036804.py:24: FutureWarning: The default dtype for empty Series will be 'object' instead of 'float64' in a future version. Specify a dtype explicitly to silence this warning.\n",
      "  new_pval = pd.Series(index=excluded)\n"
     ]
    },
    {
     "name": "stdout",
     "output_type": "stream",
     "text": [
      "Add  EMERGENCY                      with p-value 0.0\n"
     ]
    },
    {
     "name": "stderr",
     "output_type": "stream",
     "text": [
      "/var/folders/ts/47zhr5md6_551l4yy625cf780000gn/T/ipykernel_17483/2360036804.py:24: FutureWarning: The default dtype for empty Series will be 'object' instead of 'float64' in a future version. Specify a dtype explicitly to silence this warning.\n",
      "  new_pval = pd.Series(index=excluded)\n"
     ]
    },
    {
     "name": "stdout",
     "output_type": "stream",
     "text": [
      "Add  NumCPTevents                   with p-value 0.0\n",
      "Drop ExpiredHospital                with p-value 0.325517\n"
     ]
    },
    {
     "name": "stderr",
     "output_type": "stream",
     "text": [
      "/var/folders/ts/47zhr5md6_551l4yy625cf780000gn/T/ipykernel_17483/2360036804.py:24: FutureWarning: The default dtype for empty Series will be 'object' instead of 'float64' in a future version. Specify a dtype explicitly to silence this warning.\n",
      "  new_pval = pd.Series(index=excluded)\n"
     ]
    },
    {
     "name": "stdout",
     "output_type": "stream",
     "text": [
      "Add  NumMicroLabs                   with p-value 0.0\n",
      "Drop NumInput                       with p-value 0.878412\n"
     ]
    },
    {
     "name": "stderr",
     "output_type": "stream",
     "text": [
      "/var/folders/ts/47zhr5md6_551l4yy625cf780000gn/T/ipykernel_17483/2360036804.py:24: FutureWarning: The default dtype for empty Series will be 'object' instead of 'float64' in a future version. Specify a dtype explicitly to silence this warning.\n",
      "  new_pval = pd.Series(index=excluded)\n"
     ]
    },
    {
     "name": "stdout",
     "output_type": "stream",
     "text": [
      "Add  Adult                          with p-value 0.0\n",
      "Drop NumDiagnosis                   with p-value 0.405309\n"
     ]
    },
    {
     "name": "stderr",
     "output_type": "stream",
     "text": [
      "/var/folders/ts/47zhr5md6_551l4yy625cf780000gn/T/ipykernel_17483/2360036804.py:24: FutureWarning: The default dtype for empty Series will be 'object' instead of 'float64' in a future version. Specify a dtype explicitly to silence this warning.\n",
      "  new_pval = pd.Series(index=excluded)\n"
     ]
    },
    {
     "name": "stdout",
     "output_type": "stream",
     "text": [
      "Add  Medicaid                       with p-value 4.10228e-98\n",
      "Drop Government                     with p-value 0.539729\n"
     ]
    },
    {
     "name": "stderr",
     "output_type": "stream",
     "text": [
      "/var/folders/ts/47zhr5md6_551l4yy625cf780000gn/T/ipykernel_17483/2360036804.py:24: FutureWarning: The default dtype for empty Series will be 'object' instead of 'float64' in a future version. Specify a dtype explicitly to silence this warning.\n",
      "  new_pval = pd.Series(index=excluded)\n"
     ]
    },
    {
     "name": "stdout",
     "output_type": "stream",
     "text": [
      "Add  NumInput                       with p-value 0.0\n",
      "Drop NumProcEvents                  with p-value 0.708112\n"
     ]
    },
    {
     "name": "stderr",
     "output_type": "stream",
     "text": [
      "/var/folders/ts/47zhr5md6_551l4yy625cf780000gn/T/ipykernel_17483/2360036804.py:24: FutureWarning: The default dtype for empty Series will be 'object' instead of 'float64' in a future version. Specify a dtype explicitly to silence this warning.\n",
      "  new_pval = pd.Series(index=excluded)\n"
     ]
    },
    {
     "name": "stdout",
     "output_type": "stream",
     "text": [
      "Add  admission                      with p-value 0.0\n",
      "Drop NumNotes                       with p-value 0.148306\n"
     ]
    },
    {
     "name": "stderr",
     "output_type": "stream",
     "text": [
      "/var/folders/ts/47zhr5md6_551l4yy625cf780000gn/T/ipykernel_17483/2360036804.py:24: FutureWarning: The default dtype for empty Series will be 'object' instead of 'float64' in a future version. Specify a dtype explicitly to silence this warning.\n",
      "  new_pval = pd.Series(index=excluded)\n"
     ]
    },
    {
     "name": "stdout",
     "output_type": "stream",
     "text": [
      "Add  NumProcEvents                  with p-value 5.61841e-126\n",
      "Drop Adult                          with p-value 0.536169\n"
     ]
    },
    {
     "name": "stderr",
     "output_type": "stream",
     "text": [
      "/var/folders/ts/47zhr5md6_551l4yy625cf780000gn/T/ipykernel_17483/2360036804.py:24: FutureWarning: The default dtype for empty Series will be 'object' instead of 'float64' in a future version. Specify a dtype explicitly to silence this warning.\n",
      "  new_pval = pd.Series(index=excluded)\n"
     ]
    },
    {
     "name": "stdout",
     "output_type": "stream",
     "text": [
      "Add  NumTransfers                   with p-value 0.0\n",
      "Drop ELECTIVE                       with p-value 0.105726\n"
     ]
    },
    {
     "name": "stderr",
     "output_type": "stream",
     "text": [
      "/var/folders/ts/47zhr5md6_551l4yy625cf780000gn/T/ipykernel_17483/2360036804.py:24: FutureWarning: The default dtype for empty Series will be 'object' instead of 'float64' in a future version. Specify a dtype explicitly to silence this warning.\n",
      "  new_pval = pd.Series(index=excluded)\n"
     ]
    },
    {
     "name": "stdout",
     "output_type": "stream",
     "text": [
      "Add  Senior                         with p-value 1.27395e-294\n",
      "Drop admission                      with p-value 0.243013\n"
     ]
    },
    {
     "name": "stderr",
     "output_type": "stream",
     "text": [
      "/var/folders/ts/47zhr5md6_551l4yy625cf780000gn/T/ipykernel_17483/2360036804.py:24: FutureWarning: The default dtype for empty Series will be 'object' instead of 'float64' in a future version. Specify a dtype explicitly to silence this warning.\n",
      "  new_pval = pd.Series(index=excluded)\n"
     ]
    },
    {
     "name": "stdout",
     "output_type": "stream",
     "text": [
      "Add  ExpiredHospital                with p-value 5.73221e-238\n",
      "Drop NumOutput                      with p-value 0.880872\n"
     ]
    },
    {
     "name": "stderr",
     "output_type": "stream",
     "text": [
      "/var/folders/ts/47zhr5md6_551l4yy625cf780000gn/T/ipykernel_17483/2360036804.py:24: FutureWarning: The default dtype for empty Series will be 'object' instead of 'float64' in a future version. Specify a dtype explicitly to silence this warning.\n",
      "  new_pval = pd.Series(index=excluded)\n"
     ]
    },
    {
     "name": "stdout",
     "output_type": "stream",
     "text": [
      "Add  Adult                          with p-value 5.26019e-269\n"
     ]
    },
    {
     "name": "stderr",
     "output_type": "stream",
     "text": [
      "/var/folders/ts/47zhr5md6_551l4yy625cf780000gn/T/ipykernel_17483/2360036804.py:24: FutureWarning: The default dtype for empty Series will be 'object' instead of 'float64' in a future version. Specify a dtype explicitly to silence this warning.\n",
      "  new_pval = pd.Series(index=excluded)\n"
     ]
    },
    {
     "name": "stdout",
     "output_type": "stream",
     "text": [
      "Add  Government                     with p-value 1.11762e-42\n",
      "Drop Senior                         with p-value 0.784899\n"
     ]
    },
    {
     "name": "stderr",
     "output_type": "stream",
     "text": [
      "/var/folders/ts/47zhr5md6_551l4yy625cf780000gn/T/ipykernel_17483/2360036804.py:24: FutureWarning: The default dtype for empty Series will be 'object' instead of 'float64' in a future version. Specify a dtype explicitly to silence this warning.\n",
      "  new_pval = pd.Series(index=excluded)\n"
     ]
    },
    {
     "name": "stdout",
     "output_type": "stream",
     "text": [
      "Add  Private                        with p-value 1.12489e-256\n",
      "Drop Self Pay                       with p-value 0.365245\n"
     ]
    },
    {
     "name": "stderr",
     "output_type": "stream",
     "text": [
      "/var/folders/ts/47zhr5md6_551l4yy625cf780000gn/T/ipykernel_17483/2360036804.py:24: FutureWarning: The default dtype for empty Series will be 'object' instead of 'float64' in a future version. Specify a dtype explicitly to silence this warning.\n",
      "  new_pval = pd.Series(index=excluded)\n"
     ]
    },
    {
     "name": "stdout",
     "output_type": "stream",
     "text": [
      "Add  Teen                           with p-value 1.54586e-41\n",
      "Drop NumChartEvents                 with p-value 0.792662\n"
     ]
    },
    {
     "name": "stderr",
     "output_type": "stream",
     "text": [
      "/var/folders/ts/47zhr5md6_551l4yy625cf780000gn/T/ipykernel_17483/2360036804.py:24: FutureWarning: The default dtype for empty Series will be 'object' instead of 'float64' in a future version. Specify a dtype explicitly to silence this warning.\n",
      "  new_pval = pd.Series(index=excluded)\n"
     ]
    },
    {
     "name": "stdout",
     "output_type": "stream",
     "text": [
      "Add  Self Pay                       with p-value 1.99762e-117\n",
      "Drop Teen                           with p-value 0.962969\n"
     ]
    },
    {
     "name": "stderr",
     "output_type": "stream",
     "text": [
      "/var/folders/ts/47zhr5md6_551l4yy625cf780000gn/T/ipykernel_17483/2360036804.py:24: FutureWarning: The default dtype for empty Series will be 'object' instead of 'float64' in a future version. Specify a dtype explicitly to silence this warning.\n",
      "  new_pval = pd.Series(index=excluded)\n"
     ]
    },
    {
     "name": "stdout",
     "output_type": "stream",
     "text": [
      "Add  ELECTIVE                       with p-value 5.12438e-244\n"
     ]
    },
    {
     "name": "stderr",
     "output_type": "stream",
     "text": [
      "/var/folders/ts/47zhr5md6_551l4yy625cf780000gn/T/ipykernel_17483/2360036804.py:24: FutureWarning: The default dtype for empty Series will be 'object' instead of 'float64' in a future version. Specify a dtype explicitly to silence this warning.\n",
      "  new_pval = pd.Series(index=excluded)\n"
     ]
    },
    {
     "name": "stdout",
     "output_type": "stream",
     "text": [
      "Add  NumNotes                       with p-value 0.0\n",
      "Drop Adult                          with p-value 0.354959\n"
     ]
    },
    {
     "name": "stderr",
     "output_type": "stream",
     "text": [
      "/var/folders/ts/47zhr5md6_551l4yy625cf780000gn/T/ipykernel_17483/2360036804.py:24: FutureWarning: The default dtype for empty Series will be 'object' instead of 'float64' in a future version. Specify a dtype explicitly to silence this warning.\n",
      "  new_pval = pd.Series(index=excluded)\n"
     ]
    },
    {
     "name": "stdout",
     "output_type": "stream",
     "text": [
      "Add  NumOutput                      with p-value 1.28816e-301\n",
      "Drop NumCPTevents                   with p-value 0.62088\n"
     ]
    },
    {
     "name": "stderr",
     "output_type": "stream",
     "text": [
      "/var/folders/ts/47zhr5md6_551l4yy625cf780000gn/T/ipykernel_17483/2360036804.py:24: FutureWarning: The default dtype for empty Series will be 'object' instead of 'float64' in a future version. Specify a dtype explicitly to silence this warning.\n",
      "  new_pval = pd.Series(index=excluded)\n"
     ]
    },
    {
     "name": "stdout",
     "output_type": "stream",
     "text": [
      "Add  Senior                         with p-value 7.33445e-99\n",
      "Drop URGENT                         with p-value 0.600117\n"
     ]
    },
    {
     "name": "stderr",
     "output_type": "stream",
     "text": [
      "/var/folders/ts/47zhr5md6_551l4yy625cf780000gn/T/ipykernel_17483/2360036804.py:24: FutureWarning: The default dtype for empty Series will be 'object' instead of 'float64' in a future version. Specify a dtype explicitly to silence this warning.\n",
      "  new_pval = pd.Series(index=excluded)\n"
     ]
    },
    {
     "name": "stdout",
     "output_type": "stream",
     "text": [
      "Add  NumChartEvents                 with p-value 4.4038e-161\n",
      "Drop NEWBORN                        with p-value 0.505241\n"
     ]
    },
    {
     "name": "stderr",
     "output_type": "stream",
     "text": [
      "/var/folders/ts/47zhr5md6_551l4yy625cf780000gn/T/ipykernel_17483/2360036804.py:24: FutureWarning: The default dtype for empty Series will be 'object' instead of 'float64' in a future version. Specify a dtype explicitly to silence this warning.\n",
      "  new_pval = pd.Series(index=excluded)\n"
     ]
    },
    {
     "name": "stdout",
     "output_type": "stream",
     "text": [
      "Add  NumCPTevents                   with p-value 1.09431e-33\n",
      "Drop NumProcs                       with p-value 0.830976\n"
     ]
    },
    {
     "name": "stderr",
     "output_type": "stream",
     "text": [
      "/var/folders/ts/47zhr5md6_551l4yy625cf780000gn/T/ipykernel_17483/2360036804.py:24: FutureWarning: The default dtype for empty Series will be 'object' instead of 'float64' in a future version. Specify a dtype explicitly to silence this warning.\n",
      "  new_pval = pd.Series(index=excluded)\n"
     ]
    },
    {
     "name": "stdout",
     "output_type": "stream",
     "text": [
      "Add  NumProcs                       with p-value 4.10046e-29\n",
      "Drop EMERGENCY                      with p-value 0.778838\n"
     ]
    },
    {
     "name": "stderr",
     "output_type": "stream",
     "text": [
      "/var/folders/ts/47zhr5md6_551l4yy625cf780000gn/T/ipykernel_17483/2360036804.py:24: FutureWarning: The default dtype for empty Series will be 'object' instead of 'float64' in a future version. Specify a dtype explicitly to silence this warning.\n",
      "  new_pval = pd.Series(index=excluded)\n"
     ]
    },
    {
     "name": "stdout",
     "output_type": "stream",
     "text": [
      "Add  Teen                           with p-value 1.67793e-103\n",
      "Drop ELECTIVE                       with p-value 0.122799\n"
     ]
    },
    {
     "name": "stderr",
     "output_type": "stream",
     "text": [
      "/var/folders/ts/47zhr5md6_551l4yy625cf780000gn/T/ipykernel_17483/2360036804.py:24: FutureWarning: The default dtype for empty Series will be 'object' instead of 'float64' in a future version. Specify a dtype explicitly to silence this warning.\n",
      "  new_pval = pd.Series(index=excluded)\n"
     ]
    },
    {
     "name": "stdout",
     "output_type": "stream",
     "text": [
      "Add  EMERGENCY                      with p-value 1.1186e-109\n",
      "Drop NumNotes                       with p-value 0.534521\n"
     ]
    },
    {
     "name": "stderr",
     "output_type": "stream",
     "text": [
      "/var/folders/ts/47zhr5md6_551l4yy625cf780000gn/T/ipykernel_17483/2360036804.py:24: FutureWarning: The default dtype for empty Series will be 'object' instead of 'float64' in a future version. Specify a dtype explicitly to silence this warning.\n",
      "  new_pval = pd.Series(index=excluded)\n"
     ]
    },
    {
     "name": "stdout",
     "output_type": "stream",
     "text": [
      "Add  URGENT                         with p-value 1.03319e-31\n",
      "Drop ExpiredHospital                with p-value 0.072051\n"
     ]
    },
    {
     "name": "stderr",
     "output_type": "stream",
     "text": [
      "/var/folders/ts/47zhr5md6_551l4yy625cf780000gn/T/ipykernel_17483/2360036804.py:24: FutureWarning: The default dtype for empty Series will be 'object' instead of 'float64' in a future version. Specify a dtype explicitly to silence this warning.\n",
      "  new_pval = pd.Series(index=excluded)\n"
     ]
    },
    {
     "name": "stdout",
     "output_type": "stream",
     "text": [
      "Add  ExpiredHospital                with p-value 0.0\n",
      "Drop Senior                         with p-value 0.374155\n"
     ]
    },
    {
     "name": "stderr",
     "output_type": "stream",
     "text": [
      "/var/folders/ts/47zhr5md6_551l4yy625cf780000gn/T/ipykernel_17483/2360036804.py:24: FutureWarning: The default dtype for empty Series will be 'object' instead of 'float64' in a future version. Specify a dtype explicitly to silence this warning.\n",
      "  new_pval = pd.Series(index=excluded)\n"
     ]
    },
    {
     "name": "stdout",
     "output_type": "stream",
     "text": [
      "Add  NumNotes                       with p-value 1.05062e-149\n"
     ]
    },
    {
     "name": "stderr",
     "output_type": "stream",
     "text": [
      "/var/folders/ts/47zhr5md6_551l4yy625cf780000gn/T/ipykernel_17483/2360036804.py:24: FutureWarning: The default dtype for empty Series will be 'object' instead of 'float64' in a future version. Specify a dtype explicitly to silence this warning.\n",
      "  new_pval = pd.Series(index=excluded)\n"
     ]
    },
    {
     "name": "stdout",
     "output_type": "stream",
     "text": [
      "Add  age                            with p-value 0.0\n",
      "Drop Gender                         with p-value 0.387102\n"
     ]
    },
    {
     "name": "stderr",
     "output_type": "stream",
     "text": [
      "/var/folders/ts/47zhr5md6_551l4yy625cf780000gn/T/ipykernel_17483/2360036804.py:24: FutureWarning: The default dtype for empty Series will be 'object' instead of 'float64' in a future version. Specify a dtype explicitly to silence this warning.\n",
      "  new_pval = pd.Series(index=excluded)\n"
     ]
    },
    {
     "name": "stdout",
     "output_type": "stream",
     "text": [
      "Add  Adult                          with p-value 0.0\n",
      "Drop NumNotes                       with p-value 0.490594\n"
     ]
    },
    {
     "name": "stderr",
     "output_type": "stream",
     "text": [
      "/var/folders/ts/47zhr5md6_551l4yy625cf780000gn/T/ipykernel_17483/2360036804.py:24: FutureWarning: The default dtype for empty Series will be 'object' instead of 'float64' in a future version. Specify a dtype explicitly to silence this warning.\n",
      "  new_pval = pd.Series(index=excluded)\n"
     ]
    },
    {
     "name": "stdout",
     "output_type": "stream",
     "text": [
      "Add  NumNotes                       with p-value 0.0\n"
     ]
    },
    {
     "name": "stderr",
     "output_type": "stream",
     "text": [
      "/var/folders/ts/47zhr5md6_551l4yy625cf780000gn/T/ipykernel_17483/2360036804.py:24: FutureWarning: The default dtype for empty Series will be 'object' instead of 'float64' in a future version. Specify a dtype explicitly to silence this warning.\n",
      "  new_pval = pd.Series(index=excluded)\n"
     ]
    },
    {
     "name": "stdout",
     "output_type": "stream",
     "text": [
      "Add  NumDiagnosis                   with p-value 6.60037e-149\n",
      "Drop NumTransfers                   with p-value 0.936217\n"
     ]
    },
    {
     "name": "stderr",
     "output_type": "stream",
     "text": [
      "/var/folders/ts/47zhr5md6_551l4yy625cf780000gn/T/ipykernel_17483/2360036804.py:24: FutureWarning: The default dtype for empty Series will be 'object' instead of 'float64' in a future version. Specify a dtype explicitly to silence this warning.\n",
      "  new_pval = pd.Series(index=excluded)\n"
     ]
    },
    {
     "name": "stdout",
     "output_type": "stream",
     "text": [
      "Add  ELECTIVE                       with p-value 0.0\n",
      "Drop Government                     with p-value 0.964809\n"
     ]
    },
    {
     "name": "stderr",
     "output_type": "stream",
     "text": [
      "/var/folders/ts/47zhr5md6_551l4yy625cf780000gn/T/ipykernel_17483/2360036804.py:24: FutureWarning: The default dtype for empty Series will be 'object' instead of 'float64' in a future version. Specify a dtype explicitly to silence this warning.\n",
      "  new_pval = pd.Series(index=excluded)\n"
     ]
    },
    {
     "name": "stdout",
     "output_type": "stream",
     "text": [
      "Add  admission                      with p-value 8.00146e-166\n",
      "Drop NumProcEvents                  with p-value 0.48393\n"
     ]
    },
    {
     "name": "stderr",
     "output_type": "stream",
     "text": [
      "/var/folders/ts/47zhr5md6_551l4yy625cf780000gn/T/ipykernel_17483/2360036804.py:24: FutureWarning: The default dtype for empty Series will be 'object' instead of 'float64' in a future version. Specify a dtype explicitly to silence this warning.\n",
      "  new_pval = pd.Series(index=excluded)\n"
     ]
    },
    {
     "name": "stdout",
     "output_type": "stream",
     "text": [
      "Add  Gender                         with p-value 1.23004e-215\n",
      "Drop NumNotes                       with p-value 0.0578635\n"
     ]
    },
    {
     "name": "stderr",
     "output_type": "stream",
     "text": [
      "/var/folders/ts/47zhr5md6_551l4yy625cf780000gn/T/ipykernel_17483/2360036804.py:24: FutureWarning: The default dtype for empty Series will be 'object' instead of 'float64' in a future version. Specify a dtype explicitly to silence this warning.\n",
      "  new_pval = pd.Series(index=excluded)\n"
     ]
    },
    {
     "name": "stdout",
     "output_type": "stream",
     "text": [
      "Add  NumTransfers                   with p-value 1.49421e-132\n",
      "Drop ELECTIVE                       with p-value 0.543098\n"
     ]
    },
    {
     "name": "stderr",
     "output_type": "stream",
     "text": [
      "/var/folders/ts/47zhr5md6_551l4yy625cf780000gn/T/ipykernel_17483/2360036804.py:24: FutureWarning: The default dtype for empty Series will be 'object' instead of 'float64' in a future version. Specify a dtype explicitly to silence this warning.\n",
      "  new_pval = pd.Series(index=excluded)\n"
     ]
    },
    {
     "name": "stdout",
     "output_type": "stream",
     "text": [
      "Add  NumProcEvents                  with p-value 0.0\n",
      "Drop NumOutput                      with p-value 0.685979\n"
     ]
    },
    {
     "name": "stderr",
     "output_type": "stream",
     "text": [
      "/var/folders/ts/47zhr5md6_551l4yy625cf780000gn/T/ipykernel_17483/2360036804.py:24: FutureWarning: The default dtype for empty Series will be 'object' instead of 'float64' in a future version. Specify a dtype explicitly to silence this warning.\n",
      "  new_pval = pd.Series(index=excluded)\n"
     ]
    },
    {
     "name": "stdout",
     "output_type": "stream",
     "text": [
      "Add  NumNotes                       with p-value 1.32123e-47\n"
     ]
    },
    {
     "name": "stderr",
     "output_type": "stream",
     "text": [
      "/var/folders/ts/47zhr5md6_551l4yy625cf780000gn/T/ipykernel_17483/2360036804.py:24: FutureWarning: The default dtype for empty Series will be 'object' instead of 'float64' in a future version. Specify a dtype explicitly to silence this warning.\n",
      "  new_pval = pd.Series(index=excluded)\n"
     ]
    },
    {
     "name": "stdout",
     "output_type": "stream",
     "text": [
      "Add  NEWBORN                        with p-value 4.84698e-53\n",
      "Drop Child                          with p-value 0.398051\n"
     ]
    },
    {
     "name": "stderr",
     "output_type": "stream",
     "text": [
      "/var/folders/ts/47zhr5md6_551l4yy625cf780000gn/T/ipykernel_17483/2360036804.py:24: FutureWarning: The default dtype for empty Series will be 'object' instead of 'float64' in a future version. Specify a dtype explicitly to silence this warning.\n",
      "  new_pval = pd.Series(index=excluded)\n"
     ]
    },
    {
     "name": "stdout",
     "output_type": "stream",
     "text": [
      "Add  NumOutput                      with p-value 5.59455e-185\n",
      "Drop Teen                           with p-value 0.960927\n"
     ]
    },
    {
     "name": "stderr",
     "output_type": "stream",
     "text": [
      "/var/folders/ts/47zhr5md6_551l4yy625cf780000gn/T/ipykernel_17483/2360036804.py:24: FutureWarning: The default dtype for empty Series will be 'object' instead of 'float64' in a future version. Specify a dtype explicitly to silence this warning.\n",
      "  new_pval = pd.Series(index=excluded)\n"
     ]
    },
    {
     "name": "stdout",
     "output_type": "stream",
     "text": [
      "Add  TotalNumInteract               with p-value 2.15298e-79\n",
      "Drop URGENT                         with p-value 0.485809\n"
     ]
    },
    {
     "name": "stderr",
     "output_type": "stream",
     "text": [
      "/var/folders/ts/47zhr5md6_551l4yy625cf780000gn/T/ipykernel_17483/2360036804.py:24: FutureWarning: The default dtype for empty Series will be 'object' instead of 'float64' in a future version. Specify a dtype explicitly to silence this warning.\n",
      "  new_pval = pd.Series(index=excluded)\n"
     ]
    },
    {
     "name": "stdout",
     "output_type": "stream",
     "text": [
      "Add  URGENT                         with p-value 8.33151e-289\n",
      "Drop NumTransfers                   with p-value 0.191047\n"
     ]
    },
    {
     "name": "stderr",
     "output_type": "stream",
     "text": [
      "/var/folders/ts/47zhr5md6_551l4yy625cf780000gn/T/ipykernel_17483/2360036804.py:24: FutureWarning: The default dtype for empty Series will be 'object' instead of 'float64' in a future version. Specify a dtype explicitly to silence this warning.\n",
      "  new_pval = pd.Series(index=excluded)\n"
     ]
    },
    {
     "name": "stdout",
     "output_type": "stream",
     "text": [
      "Add  ELECTIVE                       with p-value 1.17513e-137\n",
      "Drop Middle Age                     with p-value 0.783525\n"
     ]
    },
    {
     "name": "stderr",
     "output_type": "stream",
     "text": [
      "/var/folders/ts/47zhr5md6_551l4yy625cf780000gn/T/ipykernel_17483/2360036804.py:24: FutureWarning: The default dtype for empty Series will be 'object' instead of 'float64' in a future version. Specify a dtype explicitly to silence this warning.\n",
      "  new_pval = pd.Series(index=excluded)\n"
     ]
    },
    {
     "name": "stdout",
     "output_type": "stream",
     "text": [
      "Add  Child                          with p-value 5.65553e-157\n",
      "Drop NumProcs                       with p-value 0.833819\n"
     ]
    },
    {
     "name": "stderr",
     "output_type": "stream",
     "text": [
      "/var/folders/ts/47zhr5md6_551l4yy625cf780000gn/T/ipykernel_17483/2360036804.py:24: FutureWarning: The default dtype for empty Series will be 'object' instead of 'float64' in a future version. Specify a dtype explicitly to silence this warning.\n",
      "  new_pval = pd.Series(index=excluded)\n"
     ]
    },
    {
     "name": "stdout",
     "output_type": "stream",
     "text": [
      "Add  Government                     with p-value 4.93785e-105\n",
      "Drop NumLabs                        with p-value 0.94384\n"
     ]
    },
    {
     "name": "stderr",
     "output_type": "stream",
     "text": [
      "/var/folders/ts/47zhr5md6_551l4yy625cf780000gn/T/ipykernel_17483/2360036804.py:24: FutureWarning: The default dtype for empty Series will be 'object' instead of 'float64' in a future version. Specify a dtype explicitly to silence this warning.\n",
      "  new_pval = pd.Series(index=excluded)\n"
     ]
    },
    {
     "name": "stdout",
     "output_type": "stream",
     "text": [
      "Add  Teen                           with p-value 7.75e-44\n",
      "Drop TotalNumInteract               with p-value 0.551345\n"
     ]
    },
    {
     "name": "stderr",
     "output_type": "stream",
     "text": [
      "/var/folders/ts/47zhr5md6_551l4yy625cf780000gn/T/ipykernel_17483/2360036804.py:24: FutureWarning: The default dtype for empty Series will be 'object' instead of 'float64' in a future version. Specify a dtype explicitly to silence this warning.\n",
      "  new_pval = pd.Series(index=excluded)\n"
     ]
    },
    {
     "name": "stdout",
     "output_type": "stream",
     "text": [
      "Add  Senior                         with p-value 0.0\n"
     ]
    },
    {
     "name": "stderr",
     "output_type": "stream",
     "text": [
      "/var/folders/ts/47zhr5md6_551l4yy625cf780000gn/T/ipykernel_17483/2360036804.py:24: FutureWarning: The default dtype for empty Series will be 'object' instead of 'float64' in a future version. Specify a dtype explicitly to silence this warning.\n",
      "  new_pval = pd.Series(index=excluded)\n"
     ]
    },
    {
     "name": "stdout",
     "output_type": "stream",
     "text": [
      "Add  NumProcs                       with p-value 2.9943e-244\n",
      "Drop NumOutput                      with p-value 0.556193\n"
     ]
    },
    {
     "name": "stderr",
     "output_type": "stream",
     "text": [
      "/var/folders/ts/47zhr5md6_551l4yy625cf780000gn/T/ipykernel_17483/2360036804.py:24: FutureWarning: The default dtype for empty Series will be 'object' instead of 'float64' in a future version. Specify a dtype explicitly to silence this warning.\n",
      "  new_pval = pd.Series(index=excluded)\n"
     ]
    },
    {
     "name": "stdout",
     "output_type": "stream",
     "text": [
      "Add  NumLabs                        with p-value 5.47609e-205\n",
      "Drop Adult                          with p-value 0.164288\n"
     ]
    },
    {
     "name": "stderr",
     "output_type": "stream",
     "text": [
      "/var/folders/ts/47zhr5md6_551l4yy625cf780000gn/T/ipykernel_17483/2360036804.py:24: FutureWarning: The default dtype for empty Series will be 'object' instead of 'float64' in a future version. Specify a dtype explicitly to silence this warning.\n",
      "  new_pval = pd.Series(index=excluded)\n"
     ]
    },
    {
     "name": "stdout",
     "output_type": "stream",
     "text": [
      "Add  Adult                          with p-value 1.15452e-204\n",
      "Drop ExpiredHospital                with p-value 0.790782\n"
     ]
    },
    {
     "name": "stderr",
     "output_type": "stream",
     "text": [
      "/var/folders/ts/47zhr5md6_551l4yy625cf780000gn/T/ipykernel_17483/2360036804.py:24: FutureWarning: The default dtype for empty Series will be 'object' instead of 'float64' in a future version. Specify a dtype explicitly to silence this warning.\n",
      "  new_pval = pd.Series(index=excluded)\n"
     ]
    },
    {
     "name": "stdout",
     "output_type": "stream",
     "text": [
      "Add  NumTransfers                   with p-value 9.30473e-43\n",
      "Drop NumLabs                        with p-value 0.156489\n"
     ]
    },
    {
     "name": "stderr",
     "output_type": "stream",
     "text": [
      "/var/folders/ts/47zhr5md6_551l4yy625cf780000gn/T/ipykernel_17483/2360036804.py:24: FutureWarning: The default dtype for empty Series will be 'object' instead of 'float64' in a future version. Specify a dtype explicitly to silence this warning.\n",
      "  new_pval = pd.Series(index=excluded)\n"
     ]
    },
    {
     "name": "stdout",
     "output_type": "stream",
     "text": [
      "Add  ExpiredHospital                with p-value 3.85197e-254\n",
      "Drop Senior                         with p-value 0.159391\n"
     ]
    },
    {
     "name": "stderr",
     "output_type": "stream",
     "text": [
      "/var/folders/ts/47zhr5md6_551l4yy625cf780000gn/T/ipykernel_17483/2360036804.py:24: FutureWarning: The default dtype for empty Series will be 'object' instead of 'float64' in a future version. Specify a dtype explicitly to silence this warning.\n",
      "  new_pval = pd.Series(index=excluded)\n"
     ]
    },
    {
     "name": "stdout",
     "output_type": "stream",
     "text": [
      "Add  NumLabs                        with p-value 9.43278e-227\n",
      "Drop NumNotes                       with p-value 0.819549\n"
     ]
    },
    {
     "name": "stderr",
     "output_type": "stream",
     "text": [
      "/var/folders/ts/47zhr5md6_551l4yy625cf780000gn/T/ipykernel_17483/2360036804.py:24: FutureWarning: The default dtype for empty Series will be 'object' instead of 'float64' in a future version. Specify a dtype explicitly to silence this warning.\n",
      "  new_pval = pd.Series(index=excluded)\n"
     ]
    },
    {
     "name": "stdout",
     "output_type": "stream",
     "text": [
      "Add  NumOutput                      with p-value 9.04846e-188\n",
      "Drop NumMicroLabs                   with p-value 0.438453\n"
     ]
    },
    {
     "name": "stderr",
     "output_type": "stream",
     "text": [
      "/var/folders/ts/47zhr5md6_551l4yy625cf780000gn/T/ipykernel_17483/2360036804.py:24: FutureWarning: The default dtype for empty Series will be 'object' instead of 'float64' in a future version. Specify a dtype explicitly to silence this warning.\n",
      "  new_pval = pd.Series(index=excluded)\n"
     ]
    },
    {
     "name": "stdout",
     "output_type": "stream",
     "text": [
      "Add  Middle Age                     with p-value 7.9411e-93\n",
      "Drop NEWBORN                        with p-value 0.37356\n"
     ]
    },
    {
     "name": "stderr",
     "output_type": "stream",
     "text": [
      "/var/folders/ts/47zhr5md6_551l4yy625cf780000gn/T/ipykernel_17483/2360036804.py:24: FutureWarning: The default dtype for empty Series will be 'object' instead of 'float64' in a future version. Specify a dtype explicitly to silence this warning.\n",
      "  new_pval = pd.Series(index=excluded)\n"
     ]
    },
    {
     "name": "stdout",
     "output_type": "stream",
     "text": [
      "Add  NumNotes                       with p-value 2.85757e-167\n"
     ]
    },
    {
     "name": "stderr",
     "output_type": "stream",
     "text": [
      "/var/folders/ts/47zhr5md6_551l4yy625cf780000gn/T/ipykernel_17483/2360036804.py:24: FutureWarning: The default dtype for empty Series will be 'object' instead of 'float64' in a future version. Specify a dtype explicitly to silence this warning.\n",
      "  new_pval = pd.Series(index=excluded)\n"
     ]
    },
    {
     "name": "stdout",
     "output_type": "stream",
     "text": [
      "Add  Senior                         with p-value 8.15079e-106\n",
      "Drop URGENT                         with p-value 0.793385\n"
     ]
    },
    {
     "name": "stderr",
     "output_type": "stream",
     "text": [
      "/var/folders/ts/47zhr5md6_551l4yy625cf780000gn/T/ipykernel_17483/2360036804.py:24: FutureWarning: The default dtype for empty Series will be 'object' instead of 'float64' in a future version. Specify a dtype explicitly to silence this warning.\n",
      "  new_pval = pd.Series(index=excluded)\n"
     ]
    },
    {
     "name": "stdout",
     "output_type": "stream",
     "text": [
      "Add  NumMicroLabs                   with p-value 1.22137e-16\n",
      "Drop NumTransfers                   with p-value 0.117393\n"
     ]
    },
    {
     "name": "stderr",
     "output_type": "stream",
     "text": [
      "/var/folders/ts/47zhr5md6_551l4yy625cf780000gn/T/ipykernel_17483/2360036804.py:24: FutureWarning: The default dtype for empty Series will be 'object' instead of 'float64' in a future version. Specify a dtype explicitly to silence this warning.\n",
      "  new_pval = pd.Series(index=excluded)\n"
     ]
    },
    {
     "name": "stdout",
     "output_type": "stream",
     "text": [
      "Add  NumTransfers                   with p-value 7.54701e-52\n",
      "Drop EMERGENCY                      with p-value 0.44019\n"
     ]
    },
    {
     "name": "stderr",
     "output_type": "stream",
     "text": [
      "/var/folders/ts/47zhr5md6_551l4yy625cf780000gn/T/ipykernel_17483/2360036804.py:24: FutureWarning: The default dtype for empty Series will be 'object' instead of 'float64' in a future version. Specify a dtype explicitly to silence this warning.\n",
      "  new_pval = pd.Series(index=excluded)\n"
     ]
    },
    {
     "name": "stdout",
     "output_type": "stream",
     "text": [
      "Add  EMERGENCY                      with p-value 1.03142e-06\n",
      "Drop admission                      with p-value 0.279617\n"
     ]
    },
    {
     "name": "stderr",
     "output_type": "stream",
     "text": [
      "/var/folders/ts/47zhr5md6_551l4yy625cf780000gn/T/ipykernel_17483/2360036804.py:24: FutureWarning: The default dtype for empty Series will be 'object' instead of 'float64' in a future version. Specify a dtype explicitly to silence this warning.\n",
      "  new_pval = pd.Series(index=excluded)\n"
     ]
    },
    {
     "name": "stdout",
     "output_type": "stream",
     "text": [
      "Add  TotalNumInteract               with p-value 2.82719e-25\n",
      "Drop Government                     with p-value 0.154948\n"
     ]
    },
    {
     "name": "stderr",
     "output_type": "stream",
     "text": [
      "/var/folders/ts/47zhr5md6_551l4yy625cf780000gn/T/ipykernel_17483/2360036804.py:24: FutureWarning: The default dtype for empty Series will be 'object' instead of 'float64' in a future version. Specify a dtype explicitly to silence this warning.\n",
      "  new_pval = pd.Series(index=excluded)\n"
     ]
    },
    {
     "name": "stdout",
     "output_type": "stream",
     "text": [
      "Add  URGENT                         with p-value 3.44841e-81\n",
      "Drop Adult                          with p-value 0.123171\n"
     ]
    },
    {
     "name": "stderr",
     "output_type": "stream",
     "text": [
      "/var/folders/ts/47zhr5md6_551l4yy625cf780000gn/T/ipykernel_17483/2360036804.py:24: FutureWarning: The default dtype for empty Series will be 'object' instead of 'float64' in a future version. Specify a dtype explicitly to silence this warning.\n",
      "  new_pval = pd.Series(index=excluded)\n"
     ]
    },
    {
     "name": "stdout",
     "output_type": "stream",
     "text": [
      "Add  NEWBORN                        with p-value 3.29967e-69\n",
      "Drop Medicaid                       with p-value 0.136293\n"
     ]
    },
    {
     "name": "stderr",
     "output_type": "stream",
     "text": [
      "/var/folders/ts/47zhr5md6_551l4yy625cf780000gn/T/ipykernel_17483/2360036804.py:24: FutureWarning: The default dtype for empty Series will be 'object' instead of 'float64' in a future version. Specify a dtype explicitly to silence this warning.\n",
      "  new_pval = pd.Series(index=excluded)\n"
     ]
    },
    {
     "name": "stdout",
     "output_type": "stream",
     "text": [
      "Add  admission                      with p-value 0.0\n",
      "Drop NumProcs                       with p-value 0.794111\n"
     ]
    },
    {
     "name": "stderr",
     "output_type": "stream",
     "text": [
      "/var/folders/ts/47zhr5md6_551l4yy625cf780000gn/T/ipykernel_17483/2360036804.py:24: FutureWarning: The default dtype for empty Series will be 'object' instead of 'float64' in a future version. Specify a dtype explicitly to silence this warning.\n",
      "  new_pval = pd.Series(index=excluded)\n"
     ]
    },
    {
     "name": "stdout",
     "output_type": "stream",
     "text": [
      "Add  Adult                          with p-value 1.77773e-27\n",
      "Drop TotalNumInteract               with p-value 0.737804\n"
     ]
    },
    {
     "name": "stderr",
     "output_type": "stream",
     "text": [
      "/var/folders/ts/47zhr5md6_551l4yy625cf780000gn/T/ipykernel_17483/2360036804.py:24: FutureWarning: The default dtype for empty Series will be 'object' instead of 'float64' in a future version. Specify a dtype explicitly to silence this warning.\n",
      "  new_pval = pd.Series(index=excluded)\n"
     ]
    },
    {
     "name": "stdout",
     "output_type": "stream",
     "text": [
      "Add  Government                     with p-value 3.95874e-122\n",
      "Drop Middle Age                     with p-value 0.368918\n"
     ]
    },
    {
     "name": "stderr",
     "output_type": "stream",
     "text": [
      "/var/folders/ts/47zhr5md6_551l4yy625cf780000gn/T/ipykernel_17483/2360036804.py:24: FutureWarning: The default dtype for empty Series will be 'object' instead of 'float64' in a future version. Specify a dtype explicitly to silence this warning.\n",
      "  new_pval = pd.Series(index=excluded)\n"
     ]
    },
    {
     "name": "stdout",
     "output_type": "stream",
     "text": [
      "Add  Medicaid                       with p-value 5.40718e-09\n",
      "Drop NumLabs                        with p-value 0.610214\n"
     ]
    },
    {
     "name": "stderr",
     "output_type": "stream",
     "text": [
      "/var/folders/ts/47zhr5md6_551l4yy625cf780000gn/T/ipykernel_17483/2360036804.py:24: FutureWarning: The default dtype for empty Series will be 'object' instead of 'float64' in a future version. Specify a dtype explicitly to silence this warning.\n",
      "  new_pval = pd.Series(index=excluded)\n"
     ]
    },
    {
     "name": "stdout",
     "output_type": "stream",
     "text": [
      "Add  Middle Age                     with p-value 1.09429e-60\n",
      "Drop NumMicroLabs                   with p-value 0.663\n"
     ]
    },
    {
     "name": "stderr",
     "output_type": "stream",
     "text": [
      "/var/folders/ts/47zhr5md6_551l4yy625cf780000gn/T/ipykernel_17483/2360036804.py:24: FutureWarning: The default dtype for empty Series will be 'object' instead of 'float64' in a future version. Specify a dtype explicitly to silence this warning.\n",
      "  new_pval = pd.Series(index=excluded)\n"
     ]
    },
    {
     "name": "stdout",
     "output_type": "stream",
     "text": [
      "Add  NumProcs                       with p-value 6.71524e-241\n",
      "Drop Teen                           with p-value 0.486894\n"
     ]
    },
    {
     "name": "stderr",
     "output_type": "stream",
     "text": [
      "/var/folders/ts/47zhr5md6_551l4yy625cf780000gn/T/ipykernel_17483/2360036804.py:24: FutureWarning: The default dtype for empty Series will be 'object' instead of 'float64' in a future version. Specify a dtype explicitly to silence this warning.\n",
      "  new_pval = pd.Series(index=excluded)\n"
     ]
    },
    {
     "name": "stdout",
     "output_type": "stream",
     "text": [
      "Add  NumLabs                        with p-value 4.44022e-59\n",
      "Drop Adult                          with p-value 0.683354\n"
     ]
    },
    {
     "name": "stderr",
     "output_type": "stream",
     "text": [
      "/var/folders/ts/47zhr5md6_551l4yy625cf780000gn/T/ipykernel_17483/2360036804.py:24: FutureWarning: The default dtype for empty Series will be 'object' instead of 'float64' in a future version. Specify a dtype explicitly to silence this warning.\n",
      "  new_pval = pd.Series(index=excluded)\n"
     ]
    },
    {
     "name": "stdout",
     "output_type": "stream",
     "text": [
      "Add  NumMicroLabs                   with p-value 1.24861e-28\n",
      "Drop Senior                         with p-value 1.0\n"
     ]
    },
    {
     "name": "stderr",
     "output_type": "stream",
     "text": [
      "/var/folders/ts/47zhr5md6_551l4yy625cf780000gn/T/ipykernel_17483/2360036804.py:24: FutureWarning: The default dtype for empty Series will be 'object' instead of 'float64' in a future version. Specify a dtype explicitly to silence this warning.\n",
      "  new_pval = pd.Series(index=excluded)\n"
     ]
    },
    {
     "name": "stdout",
     "output_type": "stream",
     "text": [
      "Add  Teen                           with p-value 0.0\n",
      "Drop Private                        with p-value 0.960225\n"
     ]
    },
    {
     "name": "stderr",
     "output_type": "stream",
     "text": [
      "/var/folders/ts/47zhr5md6_551l4yy625cf780000gn/T/ipykernel_17483/2360036804.py:24: FutureWarning: The default dtype for empty Series will be 'object' instead of 'float64' in a future version. Specify a dtype explicitly to silence this warning.\n",
      "  new_pval = pd.Series(index=excluded)\n"
     ]
    },
    {
     "name": "stdout",
     "output_type": "stream",
     "text": [
      "Add  Adult                          with p-value 6.05468e-171\n",
      "Drop ELECTIVE                       with p-value 0.698737\n"
     ]
    },
    {
     "name": "stderr",
     "output_type": "stream",
     "text": [
      "/var/folders/ts/47zhr5md6_551l4yy625cf780000gn/T/ipykernel_17483/2360036804.py:24: FutureWarning: The default dtype for empty Series will be 'object' instead of 'float64' in a future version. Specify a dtype explicitly to silence this warning.\n",
      "  new_pval = pd.Series(index=excluded)\n"
     ]
    },
    {
     "name": "stdout",
     "output_type": "stream",
     "text": [
      "Add  Private                        with p-value 0.0\n"
     ]
    },
    {
     "name": "stderr",
     "output_type": "stream",
     "text": [
      "/var/folders/ts/47zhr5md6_551l4yy625cf780000gn/T/ipykernel_17483/2360036804.py:24: FutureWarning: The default dtype for empty Series will be 'object' instead of 'float64' in a future version. Specify a dtype explicitly to silence this warning.\n",
      "  new_pval = pd.Series(index=excluded)\n"
     ]
    },
    {
     "name": "stdout",
     "output_type": "stream",
     "text": [
      "Add  TotalNumInteract               with p-value 6.29536e-90\n",
      "Drop admission                      with p-value 0.932179\n"
     ]
    },
    {
     "name": "stderr",
     "output_type": "stream",
     "text": [
      "/var/folders/ts/47zhr5md6_551l4yy625cf780000gn/T/ipykernel_17483/2360036804.py:24: FutureWarning: The default dtype for empty Series will be 'object' instead of 'float64' in a future version. Specify a dtype explicitly to silence this warning.\n",
      "  new_pval = pd.Series(index=excluded)\n"
     ]
    },
    {
     "name": "stdout",
     "output_type": "stream",
     "text": [
      "Add  ELECTIVE                       with p-value 4.85199e-20\n",
      "Drop NumOutput                      with p-value 0.401594\n"
     ]
    },
    {
     "name": "stderr",
     "output_type": "stream",
     "text": [
      "/var/folders/ts/47zhr5md6_551l4yy625cf780000gn/T/ipykernel_17483/2360036804.py:24: FutureWarning: The default dtype for empty Series will be 'object' instead of 'float64' in a future version. Specify a dtype explicitly to silence this warning.\n",
      "  new_pval = pd.Series(index=excluded)\n"
     ]
    },
    {
     "name": "stdout",
     "output_type": "stream",
     "text": [
      "Add  admission                      with p-value 0.0\n",
      "Drop NumInput                       with p-value 0.799618\n"
     ]
    },
    {
     "name": "stderr",
     "output_type": "stream",
     "text": [
      "/var/folders/ts/47zhr5md6_551l4yy625cf780000gn/T/ipykernel_17483/2360036804.py:24: FutureWarning: The default dtype for empty Series will be 'object' instead of 'float64' in a future version. Specify a dtype explicitly to silence this warning.\n",
      "  new_pval = pd.Series(index=excluded)\n"
     ]
    },
    {
     "name": "stdout",
     "output_type": "stream",
     "text": [
      "Add  NumOutput                      with p-value 1.75914e-21\n",
      "Drop Government                     with p-value 0.785752\n"
     ]
    },
    {
     "name": "stderr",
     "output_type": "stream",
     "text": [
      "/var/folders/ts/47zhr5md6_551l4yy625cf780000gn/T/ipykernel_17483/2360036804.py:24: FutureWarning: The default dtype for empty Series will be 'object' instead of 'float64' in a future version. Specify a dtype explicitly to silence this warning.\n",
      "  new_pval = pd.Series(index=excluded)\n"
     ]
    },
    {
     "name": "stdout",
     "output_type": "stream",
     "text": [
      "Add  Government                     with p-value 4.64322e-145\n",
      "Drop Teen                           with p-value 0.609374\n"
     ]
    },
    {
     "name": "stderr",
     "output_type": "stream",
     "text": [
      "/var/folders/ts/47zhr5md6_551l4yy625cf780000gn/T/ipykernel_17483/2360036804.py:24: FutureWarning: The default dtype for empty Series will be 'object' instead of 'float64' in a future version. Specify a dtype explicitly to silence this warning.\n",
      "  new_pval = pd.Series(index=excluded)\n"
     ]
    },
    {
     "name": "stdout",
     "output_type": "stream",
     "text": [
      "Add  NumInput                       with p-value 7.92777e-16\n",
      "Drop Medicaid                       with p-value 0.842008\n"
     ]
    },
    {
     "name": "stderr",
     "output_type": "stream",
     "text": [
      "/var/folders/ts/47zhr5md6_551l4yy625cf780000gn/T/ipykernel_17483/2360036804.py:24: FutureWarning: The default dtype for empty Series will be 'object' instead of 'float64' in a future version. Specify a dtype explicitly to silence this warning.\n",
      "  new_pval = pd.Series(index=excluded)\n"
     ]
    },
    {
     "name": "stdout",
     "output_type": "stream",
     "text": [
      "Add  Medicaid                       with p-value 2.11468e-135\n",
      "Drop Medicare                       with p-value 0.890131\n"
     ]
    },
    {
     "name": "stderr",
     "output_type": "stream",
     "text": [
      "/var/folders/ts/47zhr5md6_551l4yy625cf780000gn/T/ipykernel_17483/2360036804.py:24: FutureWarning: The default dtype for empty Series will be 'object' instead of 'float64' in a future version. Specify a dtype explicitly to silence this warning.\n",
      "  new_pval = pd.Series(index=excluded)\n"
     ]
    },
    {
     "name": "stdout",
     "output_type": "stream",
     "text": [
      "Add  Teen                           with p-value 2.38437e-103\n",
      "Drop ExpiredHospital                with p-value 0.686635\n"
     ]
    },
    {
     "name": "stderr",
     "output_type": "stream",
     "text": [
      "/var/folders/ts/47zhr5md6_551l4yy625cf780000gn/T/ipykernel_17483/2360036804.py:24: FutureWarning: The default dtype for empty Series will be 'object' instead of 'float64' in a future version. Specify a dtype explicitly to silence this warning.\n",
      "  new_pval = pd.Series(index=excluded)\n"
     ]
    },
    {
     "name": "stdout",
     "output_type": "stream",
     "text": [
      "Add  ExpiredHospital                with p-value 0.0\n",
      "Drop EMERGENCY                      with p-value 0.725697\n"
     ]
    },
    {
     "name": "stderr",
     "output_type": "stream",
     "text": [
      "/var/folders/ts/47zhr5md6_551l4yy625cf780000gn/T/ipykernel_17483/2360036804.py:24: FutureWarning: The default dtype for empty Series will be 'object' instead of 'float64' in a future version. Specify a dtype explicitly to silence this warning.\n",
      "  new_pval = pd.Series(index=excluded)\n"
     ]
    },
    {
     "name": "stdout",
     "output_type": "stream",
     "text": [
      "Add  Medicare                       with p-value 1.68815e-179\n"
     ]
    },
    {
     "name": "stderr",
     "output_type": "stream",
     "text": [
      "/var/folders/ts/47zhr5md6_551l4yy625cf780000gn/T/ipykernel_17483/2360036804.py:24: FutureWarning: The default dtype for empty Series will be 'object' instead of 'float64' in a future version. Specify a dtype explicitly to silence this warning.\n",
      "  new_pval = pd.Series(index=excluded)\n"
     ]
    },
    {
     "name": "stdout",
     "output_type": "stream",
     "text": [
      "Add  EMERGENCY                      with p-value 3.57845e-14\n",
      "Drop Self Pay                       with p-value 0.691137\n"
     ]
    },
    {
     "name": "stderr",
     "output_type": "stream",
     "text": [
      "/var/folders/ts/47zhr5md6_551l4yy625cf780000gn/T/ipykernel_17483/2360036804.py:24: FutureWarning: The default dtype for empty Series will be 'object' instead of 'float64' in a future version. Specify a dtype explicitly to silence this warning.\n",
      "  new_pval = pd.Series(index=excluded)\n"
     ]
    },
    {
     "name": "stdout",
     "output_type": "stream",
     "text": [
      "Add  Senior                         with p-value 1.50655e-12\n",
      "Drop NumNotes                       with p-value 0.194201\n"
     ]
    },
    {
     "name": "stderr",
     "output_type": "stream",
     "text": [
      "/var/folders/ts/47zhr5md6_551l4yy625cf780000gn/T/ipykernel_17483/2360036804.py:24: FutureWarning: The default dtype for empty Series will be 'object' instead of 'float64' in a future version. Specify a dtype explicitly to silence this warning.\n",
      "  new_pval = pd.Series(index=excluded)\n"
     ]
    },
    {
     "name": "stdout",
     "output_type": "stream",
     "text": [
      "Add  Self Pay                       with p-value 7.03082e-09\n",
      "Drop Child                          with p-value 0.77809\n"
     ]
    },
    {
     "name": "stderr",
     "output_type": "stream",
     "text": [
      "/var/folders/ts/47zhr5md6_551l4yy625cf780000gn/T/ipykernel_17483/2360036804.py:24: FutureWarning: The default dtype for empty Series will be 'object' instead of 'float64' in a future version. Specify a dtype explicitly to silence this warning.\n",
      "  new_pval = pd.Series(index=excluded)\n"
     ]
    },
    {
     "name": "stdout",
     "output_type": "stream",
     "text": [
      "Add  NumNotes                       with p-value 1.18407e-20\n",
      "Drop NumLabs                        with p-value 0.282599\n"
     ]
    },
    {
     "name": "stderr",
     "output_type": "stream",
     "text": [
      "/var/folders/ts/47zhr5md6_551l4yy625cf780000gn/T/ipykernel_17483/2360036804.py:24: FutureWarning: The default dtype for empty Series will be 'object' instead of 'float64' in a future version. Specify a dtype explicitly to silence this warning.\n",
      "  new_pval = pd.Series(index=excluded)\n"
     ]
    },
    {
     "name": "stdout",
     "output_type": "stream",
     "text": [
      "Add  NumLabs                        with p-value 1.08396e-15\n",
      "Drop age                            with p-value 0.846439\n"
     ]
    },
    {
     "name": "stderr",
     "output_type": "stream",
     "text": [
      "/var/folders/ts/47zhr5md6_551l4yy625cf780000gn/T/ipykernel_17483/2360036804.py:24: FutureWarning: The default dtype for empty Series will be 'object' instead of 'float64' in a future version. Specify a dtype explicitly to silence this warning.\n",
      "  new_pval = pd.Series(index=excluded)\n"
     ]
    },
    {
     "name": "stdout",
     "output_type": "stream",
     "text": [
      "Add  Child                          with p-value 8.07026e-27\n",
      "Drop EMERGENCY                      with p-value 0.893404\n"
     ]
    },
    {
     "name": "stderr",
     "output_type": "stream",
     "text": [
      "/var/folders/ts/47zhr5md6_551l4yy625cf780000gn/T/ipykernel_17483/2360036804.py:24: FutureWarning: The default dtype for empty Series will be 'object' instead of 'float64' in a future version. Specify a dtype explicitly to silence this warning.\n",
      "  new_pval = pd.Series(index=excluded)\n"
     ]
    },
    {
     "name": "stdout",
     "output_type": "stream",
     "text": [
      "Add  EMERGENCY                      with p-value 1.0938e-92\n",
      "Drop NumDiagnosis                   with p-value 0.890459\n"
     ]
    },
    {
     "name": "stderr",
     "output_type": "stream",
     "text": [
      "/var/folders/ts/47zhr5md6_551l4yy625cf780000gn/T/ipykernel_17483/2360036804.py:24: FutureWarning: The default dtype for empty Series will be 'object' instead of 'float64' in a future version. Specify a dtype explicitly to silence this warning.\n",
      "  new_pval = pd.Series(index=excluded)\n"
     ]
    },
    {
     "name": "stdout",
     "output_type": "stream",
     "text": [
      "Add  NumDiagnosis                   with p-value 2.49624e-11\n",
      "Drop ELECTIVE                       with p-value 0.735318\n"
     ]
    },
    {
     "name": "stderr",
     "output_type": "stream",
     "text": [
      "/var/folders/ts/47zhr5md6_551l4yy625cf780000gn/T/ipykernel_17483/2360036804.py:24: FutureWarning: The default dtype for empty Series will be 'object' instead of 'float64' in a future version. Specify a dtype explicitly to silence this warning.\n",
      "  new_pval = pd.Series(index=excluded)\n"
     ]
    },
    {
     "name": "stdout",
     "output_type": "stream",
     "text": [
      "Add  age                            with p-value 0.0\n",
      "Drop Child                          with p-value 0.960628\n"
     ]
    },
    {
     "name": "stderr",
     "output_type": "stream",
     "text": [
      "/var/folders/ts/47zhr5md6_551l4yy625cf780000gn/T/ipykernel_17483/2360036804.py:24: FutureWarning: The default dtype for empty Series will be 'object' instead of 'float64' in a future version. Specify a dtype explicitly to silence this warning.\n",
      "  new_pval = pd.Series(index=excluded)\n"
     ]
    },
    {
     "name": "stdout",
     "output_type": "stream",
     "text": [
      "Add  ELECTIVE                       with p-value 1.93327e-236\n",
      "Drop NumMicroLabs                   with p-value 0.653127\n"
     ]
    },
    {
     "name": "stderr",
     "output_type": "stream",
     "text": [
      "/var/folders/ts/47zhr5md6_551l4yy625cf780000gn/T/ipykernel_17483/2360036804.py:24: FutureWarning: The default dtype for empty Series will be 'object' instead of 'float64' in a future version. Specify a dtype explicitly to silence this warning.\n",
      "  new_pval = pd.Series(index=excluded)\n"
     ]
    },
    {
     "name": "stdout",
     "output_type": "stream",
     "text": [
      "Drop NumNotes                       with p-value 0.840722\n"
     ]
    },
    {
     "name": "stderr",
     "output_type": "stream",
     "text": [
      "/var/folders/ts/47zhr5md6_551l4yy625cf780000gn/T/ipykernel_17483/2360036804.py:24: FutureWarning: The default dtype for empty Series will be 'object' instead of 'float64' in a future version. Specify a dtype explicitly to silence this warning.\n",
      "  new_pval = pd.Series(index=excluded)\n"
     ]
    },
    {
     "name": "stdout",
     "output_type": "stream",
     "text": [
      "Add  NumMicroLabs                   with p-value 2.50944e-21\n",
      "Drop NumTransfers                   with p-value 0.859996\n"
     ]
    },
    {
     "name": "stderr",
     "output_type": "stream",
     "text": [
      "/var/folders/ts/47zhr5md6_551l4yy625cf780000gn/T/ipykernel_17483/2360036804.py:24: FutureWarning: The default dtype for empty Series will be 'object' instead of 'float64' in a future version. Specify a dtype explicitly to silence this warning.\n",
      "  new_pval = pd.Series(index=excluded)\n"
     ]
    },
    {
     "name": "stdout",
     "output_type": "stream",
     "text": [
      "Add  NumTransfers                   with p-value 4.74554e-17\n",
      "Drop NumChartEvents                 with p-value 0.41753\n"
     ]
    },
    {
     "name": "stderr",
     "output_type": "stream",
     "text": [
      "/var/folders/ts/47zhr5md6_551l4yy625cf780000gn/T/ipykernel_17483/2360036804.py:24: FutureWarning: The default dtype for empty Series will be 'object' instead of 'float64' in a future version. Specify a dtype explicitly to silence this warning.\n",
      "  new_pval = pd.Series(index=excluded)\n"
     ]
    },
    {
     "name": "stdout",
     "output_type": "stream",
     "text": [
      "Add  NumNotes                       with p-value 1.19457e-10\n",
      "Drop Private                        with p-value 0.877937\n"
     ]
    },
    {
     "name": "stderr",
     "output_type": "stream",
     "text": [
      "/var/folders/ts/47zhr5md6_551l4yy625cf780000gn/T/ipykernel_17483/2360036804.py:24: FutureWarning: The default dtype for empty Series will be 'object' instead of 'float64' in a future version. Specify a dtype explicitly to silence this warning.\n",
      "  new_pval = pd.Series(index=excluded)\n"
     ]
    },
    {
     "name": "stdout",
     "output_type": "stream",
     "text": [
      "Add  Private                        with p-value 9.48505e-219\n",
      "Drop ExpiredHospital                with p-value 0.172801\n"
     ]
    },
    {
     "name": "stderr",
     "output_type": "stream",
     "text": [
      "/var/folders/ts/47zhr5md6_551l4yy625cf780000gn/T/ipykernel_17483/2360036804.py:24: FutureWarning: The default dtype for empty Series will be 'object' instead of 'float64' in a future version. Specify a dtype explicitly to silence this warning.\n",
      "  new_pval = pd.Series(index=excluded)\n"
     ]
    },
    {
     "name": "stdout",
     "output_type": "stream",
     "text": [
      "Add  NumChartEvents                 with p-value 6.69521e-13\n",
      "Drop NumLabs                        with p-value 0.385372\n"
     ]
    },
    {
     "name": "stderr",
     "output_type": "stream",
     "text": [
      "/var/folders/ts/47zhr5md6_551l4yy625cf780000gn/T/ipykernel_17483/2360036804.py:24: FutureWarning: The default dtype for empty Series will be 'object' instead of 'float64' in a future version. Specify a dtype explicitly to silence this warning.\n",
      "  new_pval = pd.Series(index=excluded)\n"
     ]
    },
    {
     "name": "stdout",
     "output_type": "stream",
     "text": [
      "Add  ExpiredHospital                with p-value 1.272e-216\n",
      "Drop NumChartEvents                 with p-value 0.920913\n"
     ]
    },
    {
     "name": "stderr",
     "output_type": "stream",
     "text": [
      "/var/folders/ts/47zhr5md6_551l4yy625cf780000gn/T/ipykernel_17483/2360036804.py:24: FutureWarning: The default dtype for empty Series will be 'object' instead of 'float64' in a future version. Specify a dtype explicitly to silence this warning.\n",
      "  new_pval = pd.Series(index=excluded)\n"
     ]
    },
    {
     "name": "stdout",
     "output_type": "stream",
     "text": [
      "Add  Child                          with p-value 3.69793e-34\n"
     ]
    },
    {
     "name": "stderr",
     "output_type": "stream",
     "text": [
      "/var/folders/ts/47zhr5md6_551l4yy625cf780000gn/T/ipykernel_17483/2360036804.py:24: FutureWarning: The default dtype for empty Series will be 'object' instead of 'float64' in a future version. Specify a dtype explicitly to silence this warning.\n",
      "  new_pval = pd.Series(index=excluded)\n"
     ]
    },
    {
     "name": "stdout",
     "output_type": "stream",
     "text": [
      "Add  NumLabs                        with p-value 0.00862971\n",
      "Drop NumTransfers                   with p-value 0.622771\n"
     ]
    },
    {
     "name": "stderr",
     "output_type": "stream",
     "text": [
      "/var/folders/ts/47zhr5md6_551l4yy625cf780000gn/T/ipykernel_17483/2360036804.py:24: FutureWarning: The default dtype for empty Series will be 'object' instead of 'float64' in a future version. Specify a dtype explicitly to silence this warning.\n",
      "  new_pval = pd.Series(index=excluded)\n"
     ]
    },
    {
     "name": "stdout",
     "output_type": "stream",
     "text": [
      "Add  NumTransfers                   with p-value 4.4684e-05\n",
      "Drop TotalNumInteract               with p-value 0.324846\n"
     ]
    },
    {
     "name": "stderr",
     "output_type": "stream",
     "text": [
      "/var/folders/ts/47zhr5md6_551l4yy625cf780000gn/T/ipykernel_17483/2360036804.py:24: FutureWarning: The default dtype for empty Series will be 'object' instead of 'float64' in a future version. Specify a dtype explicitly to silence this warning.\n",
      "  new_pval = pd.Series(index=excluded)\n"
     ]
    },
    {
     "name": "stdout",
     "output_type": "stream",
     "text": [
      "Add  TotalNumInteract               with p-value 2.46842e-10\n",
      "Drop NumLabs                        with p-value 0.522858\n"
     ]
    },
    {
     "name": "stderr",
     "output_type": "stream",
     "text": [
      "/var/folders/ts/47zhr5md6_551l4yy625cf780000gn/T/ipykernel_17483/2360036804.py:24: FutureWarning: The default dtype for empty Series will be 'object' instead of 'float64' in a future version. Specify a dtype explicitly to silence this warning.\n",
      "  new_pval = pd.Series(index=excluded)\n"
     ]
    },
    {
     "name": "stdout",
     "output_type": "stream",
     "text": [
      "Add  NumLabs                        with p-value 7.38515e-14\n",
      "Drop Child                          with p-value 0.488682\n"
     ]
    },
    {
     "name": "stderr",
     "output_type": "stream",
     "text": [
      "/var/folders/ts/47zhr5md6_551l4yy625cf780000gn/T/ipykernel_17483/2360036804.py:24: FutureWarning: The default dtype for empty Series will be 'object' instead of 'float64' in a future version. Specify a dtype explicitly to silence this warning.\n",
      "  new_pval = pd.Series(index=excluded)\n"
     ]
    },
    {
     "name": "stdout",
     "output_type": "stream",
     "text": [
      "Add  Child                          with p-value 1.36123e-12\n"
     ]
    },
    {
     "name": "stderr",
     "output_type": "stream",
     "text": [
      "/var/folders/ts/47zhr5md6_551l4yy625cf780000gn/T/ipykernel_17483/2360036804.py:24: FutureWarning: The default dtype for empty Series will be 'object' instead of 'float64' in a future version. Specify a dtype explicitly to silence this warning.\n",
      "  new_pval = pd.Series(index=excluded)\n"
     ]
    },
    {
     "name": "stdout",
     "output_type": "stream",
     "text": [
      "Add  NumChartEvents                 with p-value 1.86204e-76\n",
      "Drop Child                          with p-value 0.766357\n"
     ]
    },
    {
     "name": "stderr",
     "output_type": "stream",
     "text": [
      "/var/folders/ts/47zhr5md6_551l4yy625cf780000gn/T/ipykernel_17483/2360036804.py:24: FutureWarning: The default dtype for empty Series will be 'object' instead of 'float64' in a future version. Specify a dtype explicitly to silence this warning.\n",
      "  new_pval = pd.Series(index=excluded)\n"
     ]
    },
    {
     "name": "stdout",
     "output_type": "stream",
     "text": [
      "Add  Child                          with p-value 0.000201956\n",
      "Drop NumRx                          with p-value 0.865757\n"
     ]
    },
    {
     "name": "stderr",
     "output_type": "stream",
     "text": [
      "/var/folders/ts/47zhr5md6_551l4yy625cf780000gn/T/ipykernel_17483/2360036804.py:24: FutureWarning: The default dtype for empty Series will be 'object' instead of 'float64' in a future version. Specify a dtype explicitly to silence this warning.\n",
      "  new_pval = pd.Series(index=excluded)\n"
     ]
    },
    {
     "name": "stdout",
     "output_type": "stream",
     "text": [
      "Add  NumRx                          with p-value 0.0\n",
      "Drop NumProcEvents                  with p-value 0.48284\n"
     ]
    },
    {
     "name": "stderr",
     "output_type": "stream",
     "text": [
      "/var/folders/ts/47zhr5md6_551l4yy625cf780000gn/T/ipykernel_17483/2360036804.py:24: FutureWarning: The default dtype for empty Series will be 'object' instead of 'float64' in a future version. Specify a dtype explicitly to silence this warning.\n",
      "  new_pval = pd.Series(index=excluded)\n"
     ]
    },
    {
     "name": "stdout",
     "output_type": "stream",
     "text": [
      "Add  NumProcEvents                  with p-value 6.06665e-07\n",
      "Drop Medicaid                       with p-value 0.332744\n"
     ]
    },
    {
     "name": "stderr",
     "output_type": "stream",
     "text": [
      "/var/folders/ts/47zhr5md6_551l4yy625cf780000gn/T/ipykernel_17483/2360036804.py:24: FutureWarning: The default dtype for empty Series will be 'object' instead of 'float64' in a future version. Specify a dtype explicitly to silence this warning.\n",
      "  new_pval = pd.Series(index=excluded)\n"
     ]
    },
    {
     "name": "stdout",
     "output_type": "stream",
     "text": [
      "Add  Medicaid                       with p-value 7.64374e-41\n",
      "Drop NumNotes                       with p-value 0.212553\n"
     ]
    },
    {
     "name": "stderr",
     "output_type": "stream",
     "text": [
      "/var/folders/ts/47zhr5md6_551l4yy625cf780000gn/T/ipykernel_17483/2360036804.py:24: FutureWarning: The default dtype for empty Series will be 'object' instead of 'float64' in a future version. Specify a dtype explicitly to silence this warning.\n",
      "  new_pval = pd.Series(index=excluded)\n"
     ]
    },
    {
     "name": "stdout",
     "output_type": "stream",
     "text": [
      "Add  NumNotes                       with p-value 2.08976e-10\n",
      "Drop ELECTIVE                       with p-value 0.764386\n"
     ]
    },
    {
     "name": "stderr",
     "output_type": "stream",
     "text": [
      "/var/folders/ts/47zhr5md6_551l4yy625cf780000gn/T/ipykernel_17483/2360036804.py:24: FutureWarning: The default dtype for empty Series will be 'object' instead of 'float64' in a future version. Specify a dtype explicitly to silence this warning.\n",
      "  new_pval = pd.Series(index=excluded)\n"
     ]
    },
    {
     "name": "stdout",
     "output_type": "stream",
     "text": [
      "Add  ELECTIVE                       with p-value 2.41539e-15\n",
      "Drop NEWBORN                        with p-value 0.784311\n"
     ]
    },
    {
     "name": "stderr",
     "output_type": "stream",
     "text": [
      "/var/folders/ts/47zhr5md6_551l4yy625cf780000gn/T/ipykernel_17483/2360036804.py:24: FutureWarning: The default dtype for empty Series will be 'object' instead of 'float64' in a future version. Specify a dtype explicitly to silence this warning.\n",
      "  new_pval = pd.Series(index=excluded)\n"
     ]
    },
    {
     "name": "stdout",
     "output_type": "stream",
     "text": [
      "Add  NEWBORN                        with p-value 6.61223e-50\n",
      "Drop NumInput                       with p-value 0.42\n"
     ]
    },
    {
     "name": "stderr",
     "output_type": "stream",
     "text": [
      "/var/folders/ts/47zhr5md6_551l4yy625cf780000gn/T/ipykernel_17483/2360036804.py:24: FutureWarning: The default dtype for empty Series will be 'object' instead of 'float64' in a future version. Specify a dtype explicitly to silence this warning.\n",
      "  new_pval = pd.Series(index=excluded)\n"
     ]
    },
    {
     "name": "stdout",
     "output_type": "stream",
     "text": [
      "Add  NumInput                       with p-value 1.60932e-172\n",
      "Drop NumTransfers                   with p-value 0.707815\n"
     ]
    },
    {
     "name": "stderr",
     "output_type": "stream",
     "text": [
      "/var/folders/ts/47zhr5md6_551l4yy625cf780000gn/T/ipykernel_17483/2360036804.py:24: FutureWarning: The default dtype for empty Series will be 'object' instead of 'float64' in a future version. Specify a dtype explicitly to silence this warning.\n",
      "  new_pval = pd.Series(index=excluded)\n"
     ]
    },
    {
     "name": "stdout",
     "output_type": "stream",
     "text": [
      "Add  NumTransfers                   with p-value 0.000533808\n",
      "Drop Medicaid                       with p-value 0.323103\n"
     ]
    },
    {
     "name": "stderr",
     "output_type": "stream",
     "text": [
      "/var/folders/ts/47zhr5md6_551l4yy625cf780000gn/T/ipykernel_17483/2360036804.py:24: FutureWarning: The default dtype for empty Series will be 'object' instead of 'float64' in a future version. Specify a dtype explicitly to silence this warning.\n",
      "  new_pval = pd.Series(index=excluded)\n"
     ]
    },
    {
     "name": "stdout",
     "output_type": "stream",
     "text": [
      "Add  Medicaid                       with p-value 7.5544e-286\n",
      "Drop NumOutput                      with p-value 0.389945\n"
     ]
    },
    {
     "name": "stderr",
     "output_type": "stream",
     "text": [
      "/var/folders/ts/47zhr5md6_551l4yy625cf780000gn/T/ipykernel_17483/2360036804.py:24: FutureWarning: The default dtype for empty Series will be 'object' instead of 'float64' in a future version. Specify a dtype explicitly to silence this warning.\n",
      "  new_pval = pd.Series(index=excluded)\n"
     ]
    },
    {
     "name": "stdout",
     "output_type": "stream",
     "text": [
      "Add  NumOutput                      with p-value 1.24382e-05\n",
      "Drop Senior                         with p-value 0.526711\n"
     ]
    },
    {
     "name": "stderr",
     "output_type": "stream",
     "text": [
      "/var/folders/ts/47zhr5md6_551l4yy625cf780000gn/T/ipykernel_17483/2360036804.py:24: FutureWarning: The default dtype for empty Series will be 'object' instead of 'float64' in a future version. Specify a dtype explicitly to silence this warning.\n",
      "  new_pval = pd.Series(index=excluded)\n"
     ]
    },
    {
     "name": "stdout",
     "output_type": "stream",
     "text": [
      "Add  Senior                         with p-value 4.21623e-79\n",
      "Drop Government                     with p-value 0.769022\n"
     ]
    },
    {
     "name": "stderr",
     "output_type": "stream",
     "text": [
      "/var/folders/ts/47zhr5md6_551l4yy625cf780000gn/T/ipykernel_17483/2360036804.py:24: FutureWarning: The default dtype for empty Series will be 'object' instead of 'float64' in a future version. Specify a dtype explicitly to silence this warning.\n",
      "  new_pval = pd.Series(index=excluded)\n"
     ]
    },
    {
     "name": "stdout",
     "output_type": "stream",
     "text": [
      "Add  Government                     with p-value 1.53487e-99\n",
      "Drop Medicaid                       with p-value 1.0\n"
     ]
    },
    {
     "name": "stderr",
     "output_type": "stream",
     "text": [
      "/var/folders/ts/47zhr5md6_551l4yy625cf780000gn/T/ipykernel_17483/2360036804.py:24: FutureWarning: The default dtype for empty Series will be 'object' instead of 'float64' in a future version. Specify a dtype explicitly to silence this warning.\n",
      "  new_pval = pd.Series(index=excluded)\n"
     ]
    },
    {
     "name": "stdout",
     "output_type": "stream",
     "text": [
      "Add  Medicaid                       with p-value 1.42344e-75\n",
      "Drop NumProcs                       with p-value 0.56264\n"
     ]
    },
    {
     "name": "stderr",
     "output_type": "stream",
     "text": [
      "/var/folders/ts/47zhr5md6_551l4yy625cf780000gn/T/ipykernel_17483/2360036804.py:24: FutureWarning: The default dtype for empty Series will be 'object' instead of 'float64' in a future version. Specify a dtype explicitly to silence this warning.\n",
      "  new_pval = pd.Series(index=excluded)\n"
     ]
    },
    {
     "name": "stdout",
     "output_type": "stream",
     "text": [
      "Add  NumProcs                       with p-value 0.00103286\n",
      "Drop NumDiagnosis                   with p-value 0.820458\n"
     ]
    },
    {
     "name": "stderr",
     "output_type": "stream",
     "text": [
      "/var/folders/ts/47zhr5md6_551l4yy625cf780000gn/T/ipykernel_17483/2360036804.py:24: FutureWarning: The default dtype for empty Series will be 'object' instead of 'float64' in a future version. Specify a dtype explicitly to silence this warning.\n",
      "  new_pval = pd.Series(index=excluded)\n"
     ]
    },
    {
     "name": "stdout",
     "output_type": "stream",
     "text": [
      "Add  NumDiagnosis                   with p-value 2.55717e-63\n",
      "Drop NumInput                       with p-value 0.393129\n"
     ]
    },
    {
     "name": "stderr",
     "output_type": "stream",
     "text": [
      "/var/folders/ts/47zhr5md6_551l4yy625cf780000gn/T/ipykernel_17483/2360036804.py:24: FutureWarning: The default dtype for empty Series will be 'object' instead of 'float64' in a future version. Specify a dtype explicitly to silence this warning.\n",
      "  new_pval = pd.Series(index=excluded)\n"
     ]
    },
    {
     "name": "stdout",
     "output_type": "stream",
     "text": [
      "Add  NumInput                       with p-value 4.16836e-40\n",
      "Drop URGENT                         with p-value 0.739373\n"
     ]
    },
    {
     "name": "stderr",
     "output_type": "stream",
     "text": [
      "/var/folders/ts/47zhr5md6_551l4yy625cf780000gn/T/ipykernel_17483/2360036804.py:24: FutureWarning: The default dtype for empty Series will be 'object' instead of 'float64' in a future version. Specify a dtype explicitly to silence this warning.\n",
      "  new_pval = pd.Series(index=excluded)\n"
     ]
    },
    {
     "name": "stdout",
     "output_type": "stream",
     "text": [
      "Add  URGENT                         with p-value 1.03498e-49\n",
      "Drop NumInput                       with p-value 0.86434\n"
     ]
    },
    {
     "name": "stderr",
     "output_type": "stream",
     "text": [
      "/var/folders/ts/47zhr5md6_551l4yy625cf780000gn/T/ipykernel_17483/2360036804.py:24: FutureWarning: The default dtype for empty Series will be 'object' instead of 'float64' in a future version. Specify a dtype explicitly to silence this warning.\n",
      "  new_pval = pd.Series(index=excluded)\n"
     ]
    },
    {
     "name": "stdout",
     "output_type": "stream",
     "text": [
      "Add  NumInput                       with p-value 2.8961e-14\n",
      "Drop NumDiagnosis                   with p-value 0.199909\n"
     ]
    },
    {
     "name": "stderr",
     "output_type": "stream",
     "text": [
      "/var/folders/ts/47zhr5md6_551l4yy625cf780000gn/T/ipykernel_17483/2360036804.py:24: FutureWarning: The default dtype for empty Series will be 'object' instead of 'float64' in a future version. Specify a dtype explicitly to silence this warning.\n",
      "  new_pval = pd.Series(index=excluded)\n"
     ]
    },
    {
     "name": "stdout",
     "output_type": "stream",
     "text": [
      "Drop NEWBORN                        with p-value 0.783187\n",
      "Add  NEWBORN                        with p-value 3.15694e-28\n"
     ]
    },
    {
     "name": "stderr",
     "output_type": "stream",
     "text": [
      "/var/folders/ts/47zhr5md6_551l4yy625cf780000gn/T/ipykernel_17483/2360036804.py:24: FutureWarning: The default dtype for empty Series will be 'object' instead of 'float64' in a future version. Specify a dtype explicitly to silence this warning.\n",
      "  new_pval = pd.Series(index=excluded)\n"
     ]
    },
    {
     "name": "stdout",
     "output_type": "stream",
     "text": [
      "Drop Senior                         with p-value 0.898309\n",
      "Add  Senior                         with p-value 8.0594e-10\n"
     ]
    },
    {
     "name": "stderr",
     "output_type": "stream",
     "text": [
      "/var/folders/ts/47zhr5md6_551l4yy625cf780000gn/T/ipykernel_17483/2360036804.py:24: FutureWarning: The default dtype for empty Series will be 'object' instead of 'float64' in a future version. Specify a dtype explicitly to silence this warning.\n",
      "  new_pval = pd.Series(index=excluded)\n"
     ]
    },
    {
     "name": "stdout",
     "output_type": "stream",
     "text": [
      "Drop Adult                          with p-value 0.370622\n",
      "Add  Adult                          with p-value 0.0\n"
     ]
    },
    {
     "name": "stderr",
     "output_type": "stream",
     "text": [
      "/var/folders/ts/47zhr5md6_551l4yy625cf780000gn/T/ipykernel_17483/2360036804.py:24: FutureWarning: The default dtype for empty Series will be 'object' instead of 'float64' in a future version. Specify a dtype explicitly to silence this warning.\n",
      "  new_pval = pd.Series(index=excluded)\n"
     ]
    },
    {
     "name": "stdout",
     "output_type": "stream",
     "text": [
      "Drop Senior                         with p-value 0.530123\n",
      "Add  Senior                         with p-value 8.63163e-12\n"
     ]
    },
    {
     "name": "stderr",
     "output_type": "stream",
     "text": [
      "/var/folders/ts/47zhr5md6_551l4yy625cf780000gn/T/ipykernel_17483/2360036804.py:24: FutureWarning: The default dtype for empty Series will be 'object' instead of 'float64' in a future version. Specify a dtype explicitly to silence this warning.\n",
      "  new_pval = pd.Series(index=excluded)\n"
     ]
    },
    {
     "name": "stdout",
     "output_type": "stream",
     "text": [
      "Drop TotalNumInteract               with p-value 0.944473\n"
     ]
    },
    {
     "name": "stderr",
     "output_type": "stream",
     "text": [
      "/var/folders/ts/47zhr5md6_551l4yy625cf780000gn/T/ipykernel_17483/2360036804.py:24: FutureWarning: The default dtype for empty Series will be 'object' instead of 'float64' in a future version. Specify a dtype explicitly to silence this warning.\n",
      "  new_pval = pd.Series(index=excluded)\n"
     ]
    },
    {
     "name": "stdout",
     "output_type": "stream",
     "text": [
      "Drop Self Pay                       with p-value 0.22379\n"
     ]
    },
    {
     "name": "stderr",
     "output_type": "stream",
     "text": [
      "/var/folders/ts/47zhr5md6_551l4yy625cf780000gn/T/ipykernel_17483/2360036804.py:24: FutureWarning: The default dtype for empty Series will be 'object' instead of 'float64' in a future version. Specify a dtype explicitly to silence this warning.\n",
      "  new_pval = pd.Series(index=excluded)\n"
     ]
    },
    {
     "name": "stdout",
     "output_type": "stream",
     "text": [
      "Add  NumDiagnosis                   with p-value 1.48122e-117\n",
      "Drop Private                        with p-value 0.428521\n"
     ]
    },
    {
     "name": "stderr",
     "output_type": "stream",
     "text": [
      "/var/folders/ts/47zhr5md6_551l4yy625cf780000gn/T/ipykernel_17483/2360036804.py:24: FutureWarning: The default dtype for empty Series will be 'object' instead of 'float64' in a future version. Specify a dtype explicitly to silence this warning.\n",
      "  new_pval = pd.Series(index=excluded)\n"
     ]
    },
    {
     "name": "stdout",
     "output_type": "stream",
     "text": [
      "Add  TotalNumInteract               with p-value 7.01873e-165\n",
      "Drop Medicaid                       with p-value 0.808211\n"
     ]
    },
    {
     "name": "stderr",
     "output_type": "stream",
     "text": [
      "/var/folders/ts/47zhr5md6_551l4yy625cf780000gn/T/ipykernel_17483/2360036804.py:24: FutureWarning: The default dtype for empty Series will be 'object' instead of 'float64' in a future version. Specify a dtype explicitly to silence this warning.\n",
      "  new_pval = pd.Series(index=excluded)\n"
     ]
    },
    {
     "name": "stdout",
     "output_type": "stream",
     "text": [
      "Add  Self Pay                       with p-value 1.30673e-44\n",
      "Drop NumNotes                       with p-value 0.978471\n"
     ]
    },
    {
     "name": "stderr",
     "output_type": "stream",
     "text": [
      "/var/folders/ts/47zhr5md6_551l4yy625cf780000gn/T/ipykernel_17483/2360036804.py:24: FutureWarning: The default dtype for empty Series will be 'object' instead of 'float64' in a future version. Specify a dtype explicitly to silence this warning.\n",
      "  new_pval = pd.Series(index=excluded)\n"
     ]
    },
    {
     "name": "stdout",
     "output_type": "stream",
     "text": [
      "Add  Medicaid                       with p-value 3.55561e-95\n",
      "Drop EMERGENCY                      with p-value 1.0\n"
     ]
    },
    {
     "name": "stderr",
     "output_type": "stream",
     "text": [
      "/var/folders/ts/47zhr5md6_551l4yy625cf780000gn/T/ipykernel_17483/2360036804.py:24: FutureWarning: The default dtype for empty Series will be 'object' instead of 'float64' in a future version. Specify a dtype explicitly to silence this warning.\n",
      "  new_pval = pd.Series(index=excluded)\n"
     ]
    },
    {
     "name": "stdout",
     "output_type": "stream",
     "text": [
      "Add  NumNotes                       with p-value 6.15187e-36\n",
      "Drop Middle Age                     with p-value 0.784851\n"
     ]
    },
    {
     "name": "stderr",
     "output_type": "stream",
     "text": [
      "/var/folders/ts/47zhr5md6_551l4yy625cf780000gn/T/ipykernel_17483/2360036804.py:24: FutureWarning: The default dtype for empty Series will be 'object' instead of 'float64' in a future version. Specify a dtype explicitly to silence this warning.\n",
      "  new_pval = pd.Series(index=excluded)\n"
     ]
    },
    {
     "name": "stdout",
     "output_type": "stream",
     "text": [
      "Add  Private                        with p-value 0.0\n",
      "Drop admission                      with p-value 0.840334\n"
     ]
    },
    {
     "name": "stderr",
     "output_type": "stream",
     "text": [
      "/var/folders/ts/47zhr5md6_551l4yy625cf780000gn/T/ipykernel_17483/2360036804.py:24: FutureWarning: The default dtype for empty Series will be 'object' instead of 'float64' in a future version. Specify a dtype explicitly to silence this warning.\n",
      "  new_pval = pd.Series(index=excluded)\n"
     ]
    },
    {
     "name": "stdout",
     "output_type": "stream",
     "text": [
      "Add  EMERGENCY                      with p-value 2.38312e-21\n",
      "Drop NumDiagnosis                   with p-value 0.577159\n"
     ]
    },
    {
     "name": "stderr",
     "output_type": "stream",
     "text": [
      "/var/folders/ts/47zhr5md6_551l4yy625cf780000gn/T/ipykernel_17483/2360036804.py:24: FutureWarning: The default dtype for empty Series will be 'object' instead of 'float64' in a future version. Specify a dtype explicitly to silence this warning.\n",
      "  new_pval = pd.Series(index=excluded)\n"
     ]
    },
    {
     "name": "stdout",
     "output_type": "stream",
     "text": [
      "Add  admission                      with p-value 0.0\n",
      "Drop EMERGENCY                      with p-value 1.0\n"
     ]
    },
    {
     "name": "stderr",
     "output_type": "stream",
     "text": [
      "/var/folders/ts/47zhr5md6_551l4yy625cf780000gn/T/ipykernel_17483/2360036804.py:24: FutureWarning: The default dtype for empty Series will be 'object' instead of 'float64' in a future version. Specify a dtype explicitly to silence this warning.\n",
      "  new_pval = pd.Series(index=excluded)\n"
     ]
    },
    {
     "name": "stdout",
     "output_type": "stream",
     "text": [
      "Add  Middle Age                     with p-value 1.76529e-06\n",
      "Drop Gender                         with p-value 0.612034\n"
     ]
    },
    {
     "name": "stderr",
     "output_type": "stream",
     "text": [
      "/var/folders/ts/47zhr5md6_551l4yy625cf780000gn/T/ipykernel_17483/2360036804.py:24: FutureWarning: The default dtype for empty Series will be 'object' instead of 'float64' in a future version. Specify a dtype explicitly to silence this warning.\n",
      "  new_pval = pd.Series(index=excluded)\n"
     ]
    },
    {
     "name": "stdout",
     "output_type": "stream",
     "text": [
      "Add  Gender                         with p-value 3.66189e-144\n",
      "Drop NumNotes                       with p-value 0.866135\n"
     ]
    },
    {
     "name": "stderr",
     "output_type": "stream",
     "text": [
      "/var/folders/ts/47zhr5md6_551l4yy625cf780000gn/T/ipykernel_17483/2360036804.py:24: FutureWarning: The default dtype for empty Series will be 'object' instead of 'float64' in a future version. Specify a dtype explicitly to silence this warning.\n",
      "  new_pval = pd.Series(index=excluded)\n"
     ]
    },
    {
     "name": "stdout",
     "output_type": "stream",
     "text": [
      "Add  EMERGENCY                      with p-value 3.38289e-26\n",
      "Drop NumInput                       with p-value 0.702071\n"
     ]
    },
    {
     "name": "stderr",
     "output_type": "stream",
     "text": [
      "/var/folders/ts/47zhr5md6_551l4yy625cf780000gn/T/ipykernel_17483/2360036804.py:24: FutureWarning: The default dtype for empty Series will be 'object' instead of 'float64' in a future version. Specify a dtype explicitly to silence this warning.\n",
      "  new_pval = pd.Series(index=excluded)\n"
     ]
    },
    {
     "name": "stdout",
     "output_type": "stream",
     "text": [
      "Add  NumNotes                       with p-value 2.93163e-34\n",
      "Drop NumLabs                        with p-value 0.0936447\n"
     ]
    },
    {
     "name": "stderr",
     "output_type": "stream",
     "text": [
      "/var/folders/ts/47zhr5md6_551l4yy625cf780000gn/T/ipykernel_17483/2360036804.py:24: FutureWarning: The default dtype for empty Series will be 'object' instead of 'float64' in a future version. Specify a dtype explicitly to silence this warning.\n",
      "  new_pval = pd.Series(index=excluded)\n"
     ]
    },
    {
     "name": "stdout",
     "output_type": "stream",
     "text": [
      "Add  NumDiagnosis                   with p-value 6.97279e-90\n",
      "Drop NumChartEvents                 with p-value 0.11717\n"
     ]
    },
    {
     "name": "stderr",
     "output_type": "stream",
     "text": [
      "/var/folders/ts/47zhr5md6_551l4yy625cf780000gn/T/ipykernel_17483/2360036804.py:24: FutureWarning: The default dtype for empty Series will be 'object' instead of 'float64' in a future version. Specify a dtype explicitly to silence this warning.\n",
      "  new_pval = pd.Series(index=excluded)\n"
     ]
    },
    {
     "name": "stdout",
     "output_type": "stream",
     "text": [
      "Add  NumInput                       with p-value 2.80176e-07\n",
      "Drop EMERGENCY                      with p-value 0.0691618\n"
     ]
    },
    {
     "name": "stderr",
     "output_type": "stream",
     "text": [
      "/var/folders/ts/47zhr5md6_551l4yy625cf780000gn/T/ipykernel_17483/2360036804.py:24: FutureWarning: The default dtype for empty Series will be 'object' instead of 'float64' in a future version. Specify a dtype explicitly to silence this warning.\n",
      "  new_pval = pd.Series(index=excluded)\n"
     ]
    },
    {
     "name": "stdout",
     "output_type": "stream",
     "text": [
      "Add  EMERGENCY                      with p-value 1.35682e-177\n",
      "Drop Medicare                       with p-value 0.594874\n"
     ]
    },
    {
     "name": "stderr",
     "output_type": "stream",
     "text": [
      "/var/folders/ts/47zhr5md6_551l4yy625cf780000gn/T/ipykernel_17483/2360036804.py:24: FutureWarning: The default dtype for empty Series will be 'object' instead of 'float64' in a future version. Specify a dtype explicitly to silence this warning.\n",
      "  new_pval = pd.Series(index=excluded)\n"
     ]
    },
    {
     "name": "stdout",
     "output_type": "stream",
     "text": [
      "Add  Medicare                       with p-value 1.57843e-59\n",
      "Drop TotalNumInteract               with p-value 0.227244\n"
     ]
    },
    {
     "name": "stderr",
     "output_type": "stream",
     "text": [
      "/var/folders/ts/47zhr5md6_551l4yy625cf780000gn/T/ipykernel_17483/2360036804.py:24: FutureWarning: The default dtype for empty Series will be 'object' instead of 'float64' in a future version. Specify a dtype explicitly to silence this warning.\n",
      "  new_pval = pd.Series(index=excluded)\n"
     ]
    },
    {
     "name": "stdout",
     "output_type": "stream",
     "text": [
      "Add  NumChartEvents                 with p-value 1.36914e-58\n",
      "Drop EMERGENCY                      with p-value 0.27455\n"
     ]
    },
    {
     "name": "stderr",
     "output_type": "stream",
     "text": [
      "/var/folders/ts/47zhr5md6_551l4yy625cf780000gn/T/ipykernel_17483/2360036804.py:24: FutureWarning: The default dtype for empty Series will be 'object' instead of 'float64' in a future version. Specify a dtype explicitly to silence this warning.\n",
      "  new_pval = pd.Series(index=excluded)\n"
     ]
    },
    {
     "name": "stdout",
     "output_type": "stream",
     "text": [
      "Add  EMERGENCY                      with p-value 2.53712e-100\n",
      "Drop Gender                         with p-value 0.493587\n"
     ]
    },
    {
     "name": "stderr",
     "output_type": "stream",
     "text": [
      "/var/folders/ts/47zhr5md6_551l4yy625cf780000gn/T/ipykernel_17483/2360036804.py:24: FutureWarning: The default dtype for empty Series will be 'object' instead of 'float64' in a future version. Specify a dtype explicitly to silence this warning.\n",
      "  new_pval = pd.Series(index=excluded)\n"
     ]
    },
    {
     "name": "stdout",
     "output_type": "stream",
     "text": [
      "Add  Gender                         with p-value 0.0\n",
      "Drop NEWBORN                        with p-value 1.0\n"
     ]
    },
    {
     "name": "stderr",
     "output_type": "stream",
     "text": [
      "/var/folders/ts/47zhr5md6_551l4yy625cf780000gn/T/ipykernel_17483/2360036804.py:24: FutureWarning: The default dtype for empty Series will be 'object' instead of 'float64' in a future version. Specify a dtype explicitly to silence this warning.\n",
      "  new_pval = pd.Series(index=excluded)\n"
     ]
    },
    {
     "name": "stdout",
     "output_type": "stream",
     "text": [
      "Add  NEWBORN                        with p-value 8.83777e-48\n",
      "Drop EMERGENCY                      with p-value 1.0\n"
     ]
    },
    {
     "name": "stderr",
     "output_type": "stream",
     "text": [
      "/var/folders/ts/47zhr5md6_551l4yy625cf780000gn/T/ipykernel_17483/2360036804.py:24: FutureWarning: The default dtype for empty Series will be 'object' instead of 'float64' in a future version. Specify a dtype explicitly to silence this warning.\n",
      "  new_pval = pd.Series(index=excluded)\n"
     ]
    },
    {
     "name": "stdout",
     "output_type": "stream",
     "text": [
      "Add  NumLabs                        with p-value 1.71572e-31\n",
      "Drop NumProcs                       with p-value 0.965927\n"
     ]
    },
    {
     "name": "stderr",
     "output_type": "stream",
     "text": [
      "/var/folders/ts/47zhr5md6_551l4yy625cf780000gn/T/ipykernel_17483/2360036804.py:24: FutureWarning: The default dtype for empty Series will be 'object' instead of 'float64' in a future version. Specify a dtype explicitly to silence this warning.\n",
      "  new_pval = pd.Series(index=excluded)\n"
     ]
    },
    {
     "name": "stdout",
     "output_type": "stream",
     "text": [
      "Add  NumProcs                       with p-value 1.32919e-75\n",
      "Drop NumMicroLabs                   with p-value 0.336116\n"
     ]
    },
    {
     "name": "stderr",
     "output_type": "stream",
     "text": [
      "/var/folders/ts/47zhr5md6_551l4yy625cf780000gn/T/ipykernel_17483/2360036804.py:24: FutureWarning: The default dtype for empty Series will be 'object' instead of 'float64' in a future version. Specify a dtype explicitly to silence this warning.\n",
      "  new_pval = pd.Series(index=excluded)\n"
     ]
    },
    {
     "name": "stdout",
     "output_type": "stream",
     "text": [
      "Add  NumMicroLabs                   with p-value 6.20655e-106\n",
      "Drop NumRx                          with p-value 0.972959\n"
     ]
    },
    {
     "name": "stderr",
     "output_type": "stream",
     "text": [
      "/var/folders/ts/47zhr5md6_551l4yy625cf780000gn/T/ipykernel_17483/2360036804.py:24: FutureWarning: The default dtype for empty Series will be 'object' instead of 'float64' in a future version. Specify a dtype explicitly to silence this warning.\n",
      "  new_pval = pd.Series(index=excluded)\n"
     ]
    },
    {
     "name": "stdout",
     "output_type": "stream",
     "text": [
      "Add  NumRx                          with p-value 1.55048e-128\n",
      "Drop Gender                         with p-value 0.596516\n"
     ]
    },
    {
     "name": "stderr",
     "output_type": "stream",
     "text": [
      "/var/folders/ts/47zhr5md6_551l4yy625cf780000gn/T/ipykernel_17483/2360036804.py:24: FutureWarning: The default dtype for empty Series will be 'object' instead of 'float64' in a future version. Specify a dtype explicitly to silence this warning.\n",
      "  new_pval = pd.Series(index=excluded)\n"
     ]
    },
    {
     "name": "stdout",
     "output_type": "stream",
     "text": [
      "Add  Gender                         with p-value 1.09325e-136\n",
      "Drop URGENT                         with p-value 0.536405\n"
     ]
    },
    {
     "name": "stderr",
     "output_type": "stream",
     "text": [
      "/var/folders/ts/47zhr5md6_551l4yy625cf780000gn/T/ipykernel_17483/2360036804.py:24: FutureWarning: The default dtype for empty Series will be 'object' instead of 'float64' in a future version. Specify a dtype explicitly to silence this warning.\n",
      "  new_pval = pd.Series(index=excluded)\n"
     ]
    },
    {
     "name": "stdout",
     "output_type": "stream",
     "text": [
      "Add  TotalNumInteract               with p-value 9.15299e-103\n",
      "Drop admission                      with p-value 0.951392\n"
     ]
    },
    {
     "name": "stderr",
     "output_type": "stream",
     "text": [
      "/var/folders/ts/47zhr5md6_551l4yy625cf780000gn/T/ipykernel_17483/2360036804.py:24: FutureWarning: The default dtype for empty Series will be 'object' instead of 'float64' in a future version. Specify a dtype explicitly to silence this warning.\n",
      "  new_pval = pd.Series(index=excluded)\n"
     ]
    },
    {
     "name": "stdout",
     "output_type": "stream",
     "text": [
      "Add  URGENT                         with p-value 2.58984e-10\n",
      "Drop Middle Age                     with p-value 0.794793\n"
     ]
    },
    {
     "name": "stderr",
     "output_type": "stream",
     "text": [
      "/var/folders/ts/47zhr5md6_551l4yy625cf780000gn/T/ipykernel_17483/2360036804.py:24: FutureWarning: The default dtype for empty Series will be 'object' instead of 'float64' in a future version. Specify a dtype explicitly to silence this warning.\n",
      "  new_pval = pd.Series(index=excluded)\n"
     ]
    },
    {
     "name": "stdout",
     "output_type": "stream",
     "text": [
      "Add  admission                      with p-value 4.73801e-34\n",
      "Drop Medicare                       with p-value 0.703445\n"
     ]
    },
    {
     "name": "stderr",
     "output_type": "stream",
     "text": [
      "/var/folders/ts/47zhr5md6_551l4yy625cf780000gn/T/ipykernel_17483/2360036804.py:24: FutureWarning: The default dtype for empty Series will be 'object' instead of 'float64' in a future version. Specify a dtype explicitly to silence this warning.\n",
      "  new_pval = pd.Series(index=excluded)\n"
     ]
    },
    {
     "name": "stdout",
     "output_type": "stream",
     "text": [
      "Add  Middle Age                     with p-value 6.11774e-21\n",
      "Drop Child                          with p-value 0.440501\n"
     ]
    },
    {
     "name": "stderr",
     "output_type": "stream",
     "text": [
      "/var/folders/ts/47zhr5md6_551l4yy625cf780000gn/T/ipykernel_17483/2360036804.py:24: FutureWarning: The default dtype for empty Series will be 'object' instead of 'float64' in a future version. Specify a dtype explicitly to silence this warning.\n",
      "  new_pval = pd.Series(index=excluded)\n"
     ]
    },
    {
     "name": "stdout",
     "output_type": "stream",
     "text": [
      "Add  Medicare                       with p-value 5.45755e-267\n",
      "Drop NumMicroLabs                   with p-value 0.545097\n"
     ]
    },
    {
     "name": "stderr",
     "output_type": "stream",
     "text": [
      "/var/folders/ts/47zhr5md6_551l4yy625cf780000gn/T/ipykernel_17483/2360036804.py:24: FutureWarning: The default dtype for empty Series will be 'object' instead of 'float64' in a future version. Specify a dtype explicitly to silence this warning.\n",
      "  new_pval = pd.Series(index=excluded)\n"
     ]
    },
    {
     "name": "stdout",
     "output_type": "stream",
     "text": [
      "Add  EMERGENCY                      with p-value 8.10673e-56\n",
      "Drop NumTransfers                   with p-value 0.969527\n"
     ]
    },
    {
     "name": "stderr",
     "output_type": "stream",
     "text": [
      "/var/folders/ts/47zhr5md6_551l4yy625cf780000gn/T/ipykernel_17483/2360036804.py:24: FutureWarning: The default dtype for empty Series will be 'object' instead of 'float64' in a future version. Specify a dtype explicitly to silence this warning.\n",
      "  new_pval = pd.Series(index=excluded)\n"
     ]
    },
    {
     "name": "stdout",
     "output_type": "stream",
     "text": [
      "Add  NumMicroLabs                   with p-value 0.000246006\n",
      "Drop TotalNumInteract               with p-value 0.9213\n"
     ]
    },
    {
     "name": "stderr",
     "output_type": "stream",
     "text": [
      "/var/folders/ts/47zhr5md6_551l4yy625cf780000gn/T/ipykernel_17483/2360036804.py:24: FutureWarning: The default dtype for empty Series will be 'object' instead of 'float64' in a future version. Specify a dtype explicitly to silence this warning.\n",
      "  new_pval = pd.Series(index=excluded)\n"
     ]
    },
    {
     "name": "stdout",
     "output_type": "stream",
     "text": [
      "Add  NumTransfers                   with p-value 1.00743e-24\n",
      "Drop Adult                          with p-value 0.340989\n"
     ]
    },
    {
     "name": "stderr",
     "output_type": "stream",
     "text": [
      "/var/folders/ts/47zhr5md6_551l4yy625cf780000gn/T/ipykernel_17483/2360036804.py:24: FutureWarning: The default dtype for empty Series will be 'object' instead of 'float64' in a future version. Specify a dtype explicitly to silence this warning.\n",
      "  new_pval = pd.Series(index=excluded)\n"
     ]
    },
    {
     "name": "stdout",
     "output_type": "stream",
     "text": [
      "Add  TotalNumInteract               with p-value 1.29985e-31\n",
      "Drop ExpiredHospital                with p-value 0.606293\n"
     ]
    },
    {
     "name": "stderr",
     "output_type": "stream",
     "text": [
      "/var/folders/ts/47zhr5md6_551l4yy625cf780000gn/T/ipykernel_17483/2360036804.py:24: FutureWarning: The default dtype for empty Series will be 'object' instead of 'float64' in a future version. Specify a dtype explicitly to silence this warning.\n",
      "  new_pval = pd.Series(index=excluded)\n"
     ]
    },
    {
     "name": "stdout",
     "output_type": "stream",
     "text": [
      "Add  Adult                          with p-value 7.01408e-64\n",
      "Drop EMERGENCY                      with p-value 0.566568\n"
     ]
    },
    {
     "name": "stderr",
     "output_type": "stream",
     "text": [
      "/var/folders/ts/47zhr5md6_551l4yy625cf780000gn/T/ipykernel_17483/2360036804.py:24: FutureWarning: The default dtype for empty Series will be 'object' instead of 'float64' in a future version. Specify a dtype explicitly to silence this warning.\n",
      "  new_pval = pd.Series(index=excluded)\n"
     ]
    },
    {
     "name": "stdout",
     "output_type": "stream",
     "text": [
      "Add  ExpiredHospital                with p-value 8.31999e-238\n",
      "Drop TotalNumInteract               with p-value 0.802884\n"
     ]
    },
    {
     "name": "stderr",
     "output_type": "stream",
     "text": [
      "/var/folders/ts/47zhr5md6_551l4yy625cf780000gn/T/ipykernel_17483/2360036804.py:24: FutureWarning: The default dtype for empty Series will be 'object' instead of 'float64' in a future version. Specify a dtype explicitly to silence this warning.\n",
      "  new_pval = pd.Series(index=excluded)\n"
     ]
    },
    {
     "name": "stdout",
     "output_type": "stream",
     "text": [
      "Add  TotalNumInteract               with p-value 3.71154e-98\n",
      "Drop ELECTIVE                       with p-value 0.682454\n"
     ]
    },
    {
     "name": "stderr",
     "output_type": "stream",
     "text": [
      "/var/folders/ts/47zhr5md6_551l4yy625cf780000gn/T/ipykernel_17483/2360036804.py:24: FutureWarning: The default dtype for empty Series will be 'object' instead of 'float64' in a future version. Specify a dtype explicitly to silence this warning.\n",
      "  new_pval = pd.Series(index=excluded)\n"
     ]
    },
    {
     "name": "stdout",
     "output_type": "stream",
     "text": [
      "Add  ELECTIVE                       with p-value 2.96984e-100\n",
      "Drop NumProcs                       with p-value 0.991528\n"
     ]
    },
    {
     "name": "stderr",
     "output_type": "stream",
     "text": [
      "/var/folders/ts/47zhr5md6_551l4yy625cf780000gn/T/ipykernel_17483/2360036804.py:24: FutureWarning: The default dtype for empty Series will be 'object' instead of 'float64' in a future version. Specify a dtype explicitly to silence this warning.\n",
      "  new_pval = pd.Series(index=excluded)\n"
     ]
    },
    {
     "name": "stdout",
     "output_type": "stream",
     "text": [
      "Add  NumProcs                       with p-value 5.56891e-14\n",
      "Drop ELECTIVE                       with p-value 0.660775\n"
     ]
    },
    {
     "name": "stderr",
     "output_type": "stream",
     "text": [
      "/var/folders/ts/47zhr5md6_551l4yy625cf780000gn/T/ipykernel_17483/2360036804.py:24: FutureWarning: The default dtype for empty Series will be 'object' instead of 'float64' in a future version. Specify a dtype explicitly to silence this warning.\n",
      "  new_pval = pd.Series(index=excluded)\n"
     ]
    },
    {
     "name": "stdout",
     "output_type": "stream",
     "text": [
      "Add  ELECTIVE                       with p-value 8.94341e-42\n",
      "Drop NumTransfers                   with p-value 0.675167\n"
     ]
    },
    {
     "name": "stderr",
     "output_type": "stream",
     "text": [
      "/var/folders/ts/47zhr5md6_551l4yy625cf780000gn/T/ipykernel_17483/2360036804.py:24: FutureWarning: The default dtype for empty Series will be 'object' instead of 'float64' in a future version. Specify a dtype explicitly to silence this warning.\n",
      "  new_pval = pd.Series(index=excluded)\n"
     ]
    },
    {
     "name": "stdout",
     "output_type": "stream",
     "text": [
      "Add  NumTransfers                   with p-value 7.09318e-15\n"
     ]
    },
    {
     "name": "stderr",
     "output_type": "stream",
     "text": [
      "/var/folders/ts/47zhr5md6_551l4yy625cf780000gn/T/ipykernel_17483/2360036804.py:24: FutureWarning: The default dtype for empty Series will be 'object' instead of 'float64' in a future version. Specify a dtype explicitly to silence this warning.\n",
      "  new_pval = pd.Series(index=excluded)\n"
     ]
    },
    {
     "name": "stdout",
     "output_type": "stream",
     "text": [
      "resulting features:\n",
      "['LOSgroupNum', 'LOSdays', 'NumCallouts', 'NumCPTevents', 'Teen', 'age', 'NumProcEvents', 'NumOutput', 'Government', 'Senior', 'Self Pay ', 'Medicaid', 'Private ', 'NumNotes', 'NumDiagnosis', 'NumInput', 'NumChartEvents', 'NEWBORN', 'NumLabs', 'NumRx', 'Gender', 'URGENT', 'admission', 'Middle Age ', 'Medicare', 'NumMicroLabs', 'Adult ', 'ExpiredHospital', 'TotalNumInteract', 'NumProcs', 'ELECTIVE', 'NumTransfers']\n"
     ]
    }
   ],
   "source": [
    "import pandas as pd\n",
    "import statsmodels.api as sm\n",
    "\n",
    "def stepwise_selection(X, y, initial_list=[], threshold_in=0.01, threshold_out=0.05, verbose=True):\n",
    "    \"\"\" Perform a forward-backward feature selection \n",
    "    based on p-value from statsmodels.api.OLS\n",
    "    \n",
    "    Arguments:\n",
    "    X - pandas.DataFrame with candidate features\n",
    "    y - list-like with the target\n",
    "    initial_list - list of features to start with (column names of X)\n",
    "    threshold_in - include a feature if its p-value < threshold_in\n",
    "    threshold_out - exclude a feature if its p-value > threshold_out\n",
    "    verbose - whether to print the sequence of inclusions and exclusions\n",
    "    \n",
    "    Returns: list of selected features \n",
    "    \"\"\"\n",
    "    \n",
    "    included = list(initial_list)\n",
    "    while True:\n",
    "        changed = False\n",
    "        # forward step\n",
    "        excluded = list(set(X.columns) - set(included))\n",
    "        new_pval = pd.Series(index=excluded)\n",
    "        for new_column in excluded:\n",
    "            model = sm.OLS(y, sm.add_constant(pd.DataFrame(X[included + [new_column]]))).fit()\n",
    "            new_pval[new_column] = model.pvalues[new_column]\n",
    "        best_pval = new_pval.min()\n",
    "        if best_pval < threshold_in:\n",
    "            best_feature = new_pval.idxmin()\n",
    "            included.append(best_feature)\n",
    "            changed = True\n",
    "            if verbose:\n",
    "                print('Add  {:30} with p-value {:.6}'.format(best_feature, best_pval))\n",
    "\n",
    "        # backward step\n",
    "        model = sm.OLS(y, sm.add_constant(pd.DataFrame(X[included]))).fit()\n",
    "        pvalues = model.pvalues.iloc[1:]\n",
    "        worst_pval = pvalues.max()  # null if pvalues is empty\n",
    "        if worst_pval > threshold_out:\n",
    "            changed = True\n",
    "            worst_feature = pvalues.idxmax()\n",
    "            included.remove(worst_feature)\n",
    "            if verbose:\n",
    "                print('Drop {:30} with p-value {:.6}'.format(worst_feature, worst_pval))\n",
    "        if not changed:\n",
    "            break\n",
    "    return included\n",
    "\n",
    "# Example usage:\n",
    "# Assuming 'data_standardized' is your DataFrame of independent variables and 'LOSdays' is your dependent variable.\n",
    "result = stepwise_selection(data_standardized, data['LOSdays'])\n",
    "\n",
    "print('resulting features:')\n",
    "print(result)\n"
   ]
  },
  {
   "cell_type": "code",
   "execution_count": 12,
   "id": "15c7cc43",
   "metadata": {},
   "outputs": [
    {
     "name": "stdout",
     "output_type": "stream",
     "text": [
      "                            OLS Regression Results                            \n",
      "==============================================================================\n",
      "Dep. Variable:                LOSdays   R-squared:                       0.466\n",
      "Model:                            OLS   Adj. R-squared:                  0.466\n",
      "Method:                 Least Squares   F-statistic:                     3429.\n",
      "Date:                Wed, 03 Apr 2024   Prob (F-statistic):               0.00\n",
      "Time:                        14:04:56   Log-Likelihood:            -2.1394e+05\n",
      "No. Observations:               58976   AIC:                         4.279e+05\n",
      "Df Residuals:                   58960   BIC:                         4.281e+05\n",
      "Df Model:                          15                                         \n",
      "Covariance Type:            nonrobust                                         \n",
      "===================================================================================\n",
      "                      coef    std err          t      P>|t|      [0.025      0.975]\n",
      "-----------------------------------------------------------------------------------\n",
      "const              10.1150      0.037    269.808      0.000      10.041      10.188\n",
      "LOSgroupNum         8.4410      0.042    200.281      0.000       8.358       8.524\n",
      "NumChartEvents      0.7269      0.059     12.388      0.000       0.612       0.842\n",
      "Senior             -0.3929      0.049     -8.035      0.000      -0.489      -0.297\n",
      "Medicaid            0.2300      0.040      5.782      0.000       0.152       0.308\n",
      "NumTransfers       -0.4591      0.063     -7.229      0.000      -0.584      -0.335\n",
      "ExpiredHospital     0.3585      0.042      8.494      0.000       0.276       0.441\n",
      "NumOutput          -0.4310      0.057     -7.625      0.000      -0.542      -0.320\n",
      "NumRx              -0.4526      0.051     -8.947      0.000      -0.552      -0.353\n",
      "Medicare           -0.3077      0.046     -6.704      0.000      -0.398      -0.218\n",
      "NumCallouts         0.2222      0.042      5.285      0.000       0.140       0.305\n",
      "NumInput            0.3292      0.057      5.809      0.000       0.218       0.440\n",
      "ELECTIVE           -0.1763      0.039     -4.510      0.000      -0.253      -0.100\n",
      "NumDiagnosis        0.3658      0.078      4.717      0.000       0.214       0.518\n",
      "NumProcs           -0.1583      0.055     -2.903      0.004      -0.265      -0.051\n",
      "NEWBORN             1.1449      0.050     22.912      0.000       1.047       1.243\n",
      "==============================================================================\n",
      "Omnibus:                    71955.532   Durbin-Watson:                   1.990\n",
      "Prob(Omnibus):                  0.000   Jarque-Bera (JB):         14069566.113\n",
      "Skew:                           6.506   Prob(JB):                         0.00\n",
      "Kurtosis:                      77.540   Cond. No.                         4.82\n",
      "==============================================================================\n",
      "\n",
      "Notes:\n",
      "[1] Standard Errors assume that the covariance matrix of the errors is correctly specified.\n"
     ]
    }
   ],
   "source": [
    "#stepwise regression\n",
    "# Define the target variable and predictors\n",
    "target = 'LOSdays'\n",
    "predictors = ['LOSgroupNum', 'NumChartEvents', 'Senior', 'Medicaid', 'NumTransfers', 'ExpiredHospital', 'NumOutput', 'NumRx', 'Medicare', 'NumCallouts', 'NumInput', 'ELECTIVE', 'NumDiagnosis', 'NumProcs', 'NEWBORN']\n",
    "\n",
    "# Standardize the predictor variables\n",
    "data_standardized = (data[predictors] - data[predictors].mean()) / data[predictors].std()\n",
    "data_standardized[target] = data[target]  # Keep the target variable unchanged\n",
    "\n",
    "# Fit the model using all specified predictors\n",
    "model = sm.OLS(data_standardized[target], sm.add_constant(data_standardized[predictors])).fit()\n",
    "\n",
    "# Display the summary of the model\n",
    "print(model.summary())"
   ]
  },
  {
   "cell_type": "code",
   "execution_count": 13,
   "id": "1049e58c",
   "metadata": {},
   "outputs": [
    {
     "name": "stdout",
     "output_type": "stream",
     "text": [
      "           Variable       VIF\n",
      "0             const  1.000000\n",
      "1       LOSgroupNum  1.263818\n",
      "2    NumChartEvents  2.449768\n",
      "3            Senior  1.700839\n",
      "4          Medicaid  1.125658\n",
      "5      NumTransfers  2.868864\n",
      "6   ExpiredHospital  1.267754\n",
      "7         NumOutput  2.273409\n",
      "8             NumRx  1.820481\n",
      "9          Medicare  1.498790\n",
      "10      NumCallouts  1.257804\n",
      "11         NumInput  2.285902\n",
      "12         ELECTIVE  1.087096\n",
      "13     NumDiagnosis  4.279273\n",
      "14         NumProcs  2.115463\n",
      "15          NEWBORN  1.776605\n"
     ]
    }
   ],
   "source": [
    "from statsmodels.stats.outliers_influence import variance_inflation_factor\n",
    "\n",
    "# Add a constant to the standardized data for VIF calculation\n",
    "X = sm.add_constant(data_standardized[predictors])\n",
    "\n",
    "# Calculate VIF for each explanatory variable\n",
    "vif_data = pd.DataFrame()\n",
    "vif_data[\"Variable\"] = X.columns\n",
    "vif_data[\"VIF\"] = [variance_inflation_factor(X.values, i) for i in range(X.shape[1])]\n",
    "\n",
    "# Display the VIF results\n",
    "print(vif_data)\n"
   ]
  },
  {
   "cell_type": "code",
   "execution_count": 14,
   "id": "57af649a",
   "metadata": {},
   "outputs": [],
   "source": [
    "correlation_matrix = data.corr()"
   ]
  },
  {
   "cell_type": "code",
   "execution_count": 15,
   "id": "858884af",
   "metadata": {},
   "outputs": [
    {
     "name": "stdout",
     "output_type": "stream",
     "text": [
      "                   LOSdays    Gender       age    Adult       Teen  \\\n",
      "LOSdays           1.000000 -0.006251  0.005162 -0.021461 -0.023391   \n",
      "Gender           -0.006251  1.000000  0.005238 -0.005715 -0.009760   \n",
      "age               0.005162  0.005238  1.000000 -0.792402 -0.198087   \n",
      "Adult            -0.021461 -0.005715 -0.792402  1.000000 -0.024193   \n",
      "Teen             -0.023391 -0.009760 -0.198087 -0.024193  1.000000   \n",
      "Middle Age       -0.002163 -0.010879 -0.279377 -0.097721 -0.040328   \n",
      "Child             0.046760  0.016170 -0.276401 -0.096680 -0.039898   \n",
      "Senior           -0.017129  0.001011  0.827924 -0.335213 -0.138335   \n",
      "EMERGENCY        -0.012382  0.005146  0.122143  0.095445  0.055379   \n",
      "NEWBORN           0.043496  0.014875 -0.271501 -0.094966 -0.039191   \n",
      "URGENT            0.026412  0.002393  0.022676 -0.001986 -0.007149   \n",
      "ELECTIVE         -0.038916 -0.022964  0.099943 -0.031399 -0.031619   \n",
      "admission        -0.016115 -0.016836  0.014964 -0.062346 -0.045750   \n",
      "Private           0.003928 -0.063323 -0.253582  0.060005  0.073256   \n",
      "Medicare         -0.017395  0.072310  0.428514 -0.180985 -0.095353   \n",
      "Medicaid          0.035876 -0.000104 -0.182167  0.105839  0.012569   \n",
      "Government       -0.004727 -0.008144 -0.139726  0.102293  0.024398   \n",
      "Self Pay         -0.030431 -0.038660 -0.125272  0.120926  0.040556   \n",
      "NumCallouts      -0.206370 -0.004301  0.006074  0.076258  0.025687   \n",
      "NumDiagnosis     -0.155828 -0.003200  0.011055  0.000034 -0.000351   \n",
      "NumProcs         -0.087569 -0.020251 -0.000625  0.004539  0.008087   \n",
      "NumCPTevents     -0.045460 -0.001132  0.034839  0.044581  0.008196   \n",
      "NumInput          0.065388 -0.030130  0.033370  0.008460  0.013807   \n",
      "NumLabs          -0.097650 -0.014406  0.022773  0.033804  0.028580   \n",
      "NumMicroLabs     -0.030895  0.018813  0.022957  0.009356 -0.004041   \n",
      "NumNotes         -0.046401 -0.007200 -0.020017 -0.001904  0.000840   \n",
      "NumOutput         0.018339 -0.025105  0.115232  0.016662  0.027073   \n",
      "NumRx            -0.169386 -0.009141  0.076812  0.029440  0.012013   \n",
      "NumProcEvents    -0.099507 -0.020191  0.030073  0.021767  0.014921   \n",
      "NumTransfers     -0.167765 -0.001852 -0.053475  0.011081  0.010905   \n",
      "NumChartEvents    0.032727 -0.014638  0.027191  0.024542  0.028854   \n",
      "ExpiredHospital  -0.000076  0.013321  0.097843 -0.035749 -0.016547   \n",
      "TotalNumInteract  0.010284 -0.017211  0.026889  0.024678  0.028128   \n",
      "LOSgroupNum       0.666333 -0.009088  0.103517 -0.043981 -0.035940   \n",
      "\n",
      "                  Middle Age     Child     Senior  EMERGENCY   NEWBORN  ...  \\\n",
      "LOSdays             -0.002163  0.046760 -0.017129  -0.012382  0.043496  ...   \n",
      "Gender              -0.010879  0.016170  0.001011   0.005146  0.014875  ...   \n",
      "age                 -0.279377 -0.276401  0.827924   0.122143 -0.271501  ...   \n",
      "Adult               -0.097721 -0.096680 -0.335213   0.095445 -0.094966  ...   \n",
      "Teen                -0.040328 -0.039898 -0.138335   0.055379 -0.039191  ...   \n",
      "Middle Age           1.000000 -0.161155 -0.558762   0.108252 -0.158298  ...   \n",
      "Child               -0.161155  1.000000 -0.552810  -0.605959  0.982272  ...   \n",
      "Senior              -0.558762 -0.552810  1.000000   0.302965 -0.543009  ...   \n",
      "EMERGENCY            0.108252 -0.605959  0.302965   1.000000 -0.618746  ...   \n",
      "NEWBORN             -0.158298  0.982272 -0.543009  -0.618746  1.000000  ...   \n",
      "URGENT               0.010133 -0.053180  0.033623  -0.240173 -0.059713  ...   \n",
      "ELECTIVE             0.009943 -0.154219  0.126343  -0.611599 -0.152059  ...   \n",
      "admission           -0.039307  0.156437 -0.045184  -0.868500  0.162482  ...   \n",
      "Private              0.075867  0.332594 -0.340967  -0.267911  0.328092  ...   \n",
      "Medicare            -0.165402 -0.382318  0.505410   0.263222 -0.375537  ...   \n",
      "Medicaid             0.110162  0.080859 -0.192834  -0.012957  0.077934  ...   \n",
      "Government           0.052856  0.043365 -0.124486  -0.009837  0.042032  ...   \n",
      "Self Pay             0.038800 -0.021405 -0.079561   0.042268 -0.022396  ...   \n",
      "NumCallouts          0.061942 -0.242786  0.088762   0.198236 -0.238482  ...   \n",
      "NumDiagnosis        -0.011131 -0.013528  0.018011   0.037781 -0.011286  ...   \n",
      "NumProcs            -0.007234 -0.004993  0.005039   0.002031 -0.004159  ...   \n",
      "NumCPTevents         0.037317 -0.209543  0.101557   0.217695 -0.205766  ...   \n",
      "NumInput             0.014006 -0.114003  0.065519   0.079273 -0.113130  ...   \n",
      "NumLabs              0.027754 -0.162992  0.075719   0.147023 -0.160036  ...   \n",
      "NumMicroLabs         0.001005 -0.068997  0.045659   0.099601 -0.067335  ...   \n",
      "NumNotes            -0.013879  0.062346 -0.034344  -0.030470  0.063325  ...   \n",
      "NumOutput            0.020672 -0.328915  0.209857   0.150172 -0.324219  ...   \n",
      "NumRx                0.038789 -0.277513  0.156297   0.190855 -0.272848  ...   \n",
      "NumProcEvents        0.010762 -0.130466  0.073192   0.100484 -0.128153  ...   \n",
      "NumTransfers        -0.010688  0.102775 -0.074366  -0.074590  0.103048  ...   \n",
      "NumChartEvents       0.009559 -0.136303  0.074065   0.135861 -0.135854  ...   \n",
      "ExpiredHospital     -0.017318 -0.122014  0.121864   0.157759 -0.119859  ...   \n",
      "TotalNumInteract     0.010500 -0.136423  0.073550   0.133424 -0.135393  ...   \n",
      "LOSgroupNum         -0.010331 -0.114280  0.119152   0.065916 -0.113398  ...   \n",
      "\n",
      "                  NumMicroLabs  NumNotes  NumOutput     NumRx  NumProcEvents  \\\n",
      "LOSdays              -0.030895 -0.046401   0.018339 -0.169386      -0.099507   \n",
      "Gender                0.018813 -0.007200  -0.025105 -0.009141      -0.020191   \n",
      "age                   0.022957 -0.020017   0.115232  0.076812       0.030073   \n",
      "Adult                 0.009356 -0.001904   0.016662  0.029440       0.021767   \n",
      "Teen                 -0.004041  0.000840   0.027073  0.012013       0.014921   \n",
      "Middle Age            0.001005 -0.013879   0.020672  0.038789       0.010762   \n",
      "Child                -0.068997  0.062346  -0.328915 -0.277513      -0.130466   \n",
      "Senior                0.045659 -0.034344   0.209857  0.156297       0.073192   \n",
      "EMERGENCY             0.099601 -0.030470   0.150172  0.190855       0.100484   \n",
      "NEWBORN              -0.067335  0.063325  -0.324219 -0.272848      -0.128153   \n",
      "URGENT               -0.004386 -0.006661   0.017155 -0.042238      -0.026326   \n",
      "ELECTIVE             -0.063785 -0.020047   0.117944  0.037770       0.006058   \n",
      "admission            -0.085565 -0.000701   0.013650 -0.064765      -0.043678   \n",
      "Private              -0.049549  0.012752  -0.086141 -0.103588      -0.052601   \n",
      "Medicare              0.053473 -0.021932   0.119659  0.108914       0.049734   \n",
      "Medicaid             -0.003450  0.008827  -0.055380 -0.021810      -0.008238   \n",
      "Government           -0.008211  0.004010  -0.028276 -0.013840       0.000795   \n",
      "Self Pay             -0.001915  0.014270   0.033700  0.047449       0.030017   \n",
      "NumCallouts          -0.001717 -0.024754   0.002790  0.154105       0.128742   \n",
      "NumDiagnosis          0.326213  0.651118   0.070173  0.459078       0.332041   \n",
      "NumProcs              0.270417  0.515118   0.101971  0.342326       0.165684   \n",
      "NumCPTevents          0.185989  0.143394   0.155098  0.366412       0.377511   \n",
      "NumInput              0.334219  0.220945   0.608838  0.413530       0.079717   \n",
      "NumLabs               0.439024  0.501445   0.385002  0.541840       0.310499   \n",
      "NumMicroLabs          1.000000  0.296014   0.166200  0.288005       0.135340   \n",
      "NumNotes              0.296014  1.000000   0.073856  0.192990       0.083855   \n",
      "NumOutput             0.166200  0.073856   1.000000  0.349277       0.223535   \n",
      "NumRx                 0.288005  0.192990   0.349277  1.000000       0.499766   \n",
      "NumProcEvents         0.135340  0.083855   0.223535  0.499766       1.000000   \n",
      "NumTransfers          0.246700  0.787646   0.031942  0.234405       0.182370   \n",
      "NumChartEvents        0.308355  0.258256   0.651758  0.441208       0.242058   \n",
      "ExpiredHospital       0.181981  0.057827   0.292912  0.298553       0.206404   \n",
      "TotalNumInteract      0.379488  0.431682   0.646675  0.502780       0.265192   \n",
      "LOSgroupNum          -0.052580 -0.069875   0.067147 -0.200464      -0.127696   \n",
      "\n",
      "                  NumTransfers  NumChartEvents  ExpiredHospital  \\\n",
      "LOSdays              -0.167765        0.032727        -0.000076   \n",
      "Gender               -0.001852       -0.014638         0.013321   \n",
      "age                  -0.053475        0.027191         0.097843   \n",
      "Adult                 0.011081        0.024542        -0.035749   \n",
      "Teen                  0.010905        0.028854        -0.016547   \n",
      "Middle Age           -0.010688        0.009559        -0.017318   \n",
      "Child                 0.102775       -0.136303        -0.122014   \n",
      "Senior               -0.074366        0.074065         0.121864   \n",
      "EMERGENCY            -0.074590        0.135861         0.157759   \n",
      "NEWBORN               0.103048       -0.135854        -0.119859   \n",
      "URGENT               -0.014099       -0.009444         0.010819   \n",
      "ELECTIVE              0.002369       -0.041093        -0.095552   \n",
      "admission             0.032058       -0.087353        -0.129414   \n",
      "Private               0.036846       -0.047963        -0.100152   \n",
      "Medicare             -0.053239        0.052386         0.125367   \n",
      "Medicaid              0.015093       -0.018523        -0.036838   \n",
      "Government            0.005483       -0.007246        -0.028807   \n",
      "Self Pay              0.032150        0.038479         0.019238   \n",
      "NumCallouts           0.012266        0.008429        -0.109290   \n",
      "NumDiagnosis          0.781676        0.272497         0.184477   \n",
      "NumProcs              0.571571        0.256347         0.150200   \n",
      "NumCPTevents          0.266828        0.249773         0.222236   \n",
      "NumInput              0.126465        0.672616         0.368530   \n",
      "NumLabs               0.522447        0.492992         0.316719   \n",
      "NumMicroLabs          0.246700        0.308355         0.181981   \n",
      "NumNotes              0.787646        0.258256         0.057827   \n",
      "NumOutput             0.031942        0.651758         0.292912   \n",
      "NumRx                 0.234405        0.441208         0.298553   \n",
      "NumProcEvents         0.182370        0.242058         0.206404   \n",
      "NumTransfers          1.000000        0.200546         0.082643   \n",
      "NumChartEvents        0.200546        1.000000         0.330790   \n",
      "ExpiredHospital       0.082643        0.330790         1.000000   \n",
      "TotalNumInteract      0.353237        0.974447         0.350784   \n",
      "LOSgroupNum          -0.247921        0.005940        -0.026785   \n",
      "\n",
      "                  TotalNumInteract  LOSgroupNum  \n",
      "LOSdays                   0.010284     0.666333  \n",
      "Gender                   -0.017211    -0.009088  \n",
      "age                       0.026889     0.103517  \n",
      "Adult                     0.024678    -0.043981  \n",
      "Teen                      0.028128    -0.035940  \n",
      "Middle Age                0.010500    -0.010331  \n",
      "Child                    -0.136423    -0.114280  \n",
      "Senior                    0.073550     0.119152  \n",
      "EMERGENCY                 0.133424     0.065916  \n",
      "NEWBORN                  -0.135393    -0.113398  \n",
      "URGENT                   -0.006527     0.036567  \n",
      "ELECTIVE                 -0.039576     0.009789  \n",
      "admission                -0.084884    -0.017142  \n",
      "Private                  -0.048985    -0.071260  \n",
      "Medicare                  0.051971     0.088666  \n",
      "Medicaid                 -0.017692    -0.006205  \n",
      "Government               -0.007522    -0.020441  \n",
      "Self Pay                  0.043454    -0.042535  \n",
      "NumCallouts              -0.001674    -0.277220  \n",
      "NumDiagnosis              0.418344    -0.227271  \n",
      "NumProcs                  0.386421    -0.124211  \n",
      "NumCPTevents              0.293866    -0.050495  \n",
      "NumInput                  0.729152     0.063312  \n",
      "NumLabs                   0.637984    -0.130636  \n",
      "NumMicroLabs              0.379488    -0.052580  \n",
      "NumNotes                  0.431682    -0.069875  \n",
      "NumOutput                 0.646675     0.067147  \n",
      "NumRx                     0.502780    -0.200464  \n",
      "NumProcEvents             0.265192    -0.127696  \n",
      "NumTransfers              0.353237    -0.247921  \n",
      "NumChartEvents            0.974447     0.005940  \n",
      "ExpiredHospital           0.350784    -0.026785  \n",
      "TotalNumInteract          1.000000    -0.019648  \n",
      "LOSgroupNum              -0.019648     1.000000  \n",
      "\n",
      "[34 rows x 34 columns]\n"
     ]
    }
   ],
   "source": [
    "print(correlation_matrix)"
   ]
  },
  {
   "cell_type": "code",
   "execution_count": 16,
   "id": "2ccde183",
   "metadata": {},
   "outputs": [
    {
     "data": {
      "image/png": "[encoded data removed]",
      "text/plain": [
       "<Figure size 800x600 with 2 Axes>"
      ]
     },
     "metadata": {},
     "output_type": "display_data"
    }
   ],
   "source": [
    "\n",
    "\n",
    "# Calculate the correlation matrix\n",
    "correlation_matrix = data.corr()\n",
    "\n",
    "# Isolate the 'LOSdays' correlations, sort them, and take the top 10\n",
    "los_correlations = correlation_matrix['LOSdays'].drop('LOSdays').abs().sort_values(ascending=False).head(10)\n",
    "\n",
    "# Filter the correlation matrix to include only the top 10 correlated features with 'LOSdays'\n",
    "top_correlations = correlation_matrix.loc[los_correlations.index, 'LOSdays']\n",
    "\n",
    "# Create a heatmap\n",
    "plt.figure(figsize=(8, 6))\n",
    "sns.heatmap(top_correlations.to_frame(), annot=True, cmap='coolwarm', fmt=\".2f\")\n",
    "plt.title('Top 10 Correlations with LOSdays')\n",
    "plt.show()\n"
   ]
  },
  {
   "cell_type": "code",
   "execution_count": 17,
   "id": "bf45bd48",
   "metadata": {},
   "outputs": [
    {
     "name": "stdout",
     "output_type": "stream",
     "text": [
      "               Correlation with LOSdays\n",
      "LOSgroupNum                    0.666333\n",
      "NumCallouts                    0.206370\n",
      "NumRx                          0.169386\n",
      "NumTransfers                   0.167765\n",
      "NumDiagnosis                   0.155828\n",
      "NumProcEvents                  0.099507\n",
      "NumLabs                        0.097650\n",
      "NumProcs                       0.087569\n",
      "NumInput                       0.065388\n",
      "Child                          0.046760\n"
     ]
    }
   ],
   "source": [
    "# Calculate the correlation matrix\n",
    "correlation_matrix = data.corr()\n",
    "\n",
    "# Isolate the 'LOSdays' correlations, sort them, and take the top 10\n",
    "los_correlations = correlation_matrix['LOSdays'].drop('LOSdays').abs().sort_values(ascending=False).head(10)\n",
    "\n",
    "# Convert to DataFrame for better display\n",
    "top_correlations_df = los_correlations.to_frame(name='Correlation with LOSdays')\n",
    "\n",
    "# Display the table\n",
    "print(top_correlations_df)"
   ]
  },
  {
   "cell_type": "code",
   "execution_count": 18,
   "id": "53ef6645",
   "metadata": {},
   "outputs": [
    {
     "data": {
      "image/png": "[encoded data removed]",
      "text/plain": [
       "<Figure size 1000x800 with 2 Axes>"
      ]
     },
     "metadata": {},
     "output_type": "display_data"
    }
   ],
   "source": [
    "# Calculate the correlation matrix\n",
    "correlation_matrix = data.corr()\n",
    "\n",
    "# Find the top 10 variables most correlated with 'LOSdays' (excluding 'LOSdays' itself)\n",
    "top_10_vars = correlation_matrix['LOSdays'].drop('LOSdays').abs().sort_values(ascending=False).head(10).index.tolist()\n",
    "\n",
    "# Create a smaller correlation matrix that includes only the top 10 correlated variables with 'LOSdays' and 'LOSdays' itself\n",
    "reduced_matrix = data[top_10_vars + ['LOSdays']].corr()\n",
    "\n",
    "# Plotting the reduced correlation matrix with Seaborn\n",
    "plt.figure(figsize=(10, 8))\n",
    "sns.heatmap(reduced_matrix, annot=True, fmt=\".2f\", cmap='Blues', cbar=True, square=True)\n",
    "\n",
    "# Adding labels to the matrix\n",
    "plt.xticks(rotation=45, ha='right')\n",
    "plt.yticks(rotation=0)\n",
    "\n",
    "# Display the plot\n",
    "plt.show()"
   ]
  }
 ],
 "metadata": {
  "kernelspec": {
   "display_name": "Python 3 (ipykernel)",
   "language": "python",
   "name": "python3"
  },
  "language_info": {
   "codemirror_mode": {
    "name": "ipython",
    "version": 3
   },
   "file_extension": ".py",
   "mimetype": "text/x-python",
   "name": "python",
   "nbconvert_exporter": "python",
   "pygments_lexer": "ipython3",
   "version": "3.9.13"
  }
 },
 "nbformat": 4,
 "nbformat_minor": 5
}
